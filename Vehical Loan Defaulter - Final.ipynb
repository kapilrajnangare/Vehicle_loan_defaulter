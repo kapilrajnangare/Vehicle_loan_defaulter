{
 "cells": [
  {
   "cell_type": "markdown",
   "id": "46df00f2",
   "metadata": {},
   "source": [
    "# Problem Statement: \n",
    "* A financial institution wants to accurately predict the probability of loanee/borrower defaulting on a vehicle loan in the first EMI (Equated Monthly Instalments) on the due date. Following Information regarding the loan and loanee are provided in the datasets:\n",
    "* Loanee Information (Demographic data like age, Identity proof etc.)\n",
    "* Loan Information (Disbursal details, loan to value ratio etc.)\n",
    "* Bureau data & history (Bureau score, number of active accounts, the status of other loans, credit history etc.)\n",
    "* Doing so will ensure that clients capable of repayment are not rejected and important determinants can be identified which can be further used for minimizing the default rates.\n",
    "\n"
   ]
  },
  {
   "cell_type": "markdown",
   "id": "d8981608",
   "metadata": {},
   "source": [
    "### Import required libraries"
   ]
  },
  {
   "cell_type": "code",
   "execution_count": 166,
   "id": "1a74ac57",
   "metadata": {},
   "outputs": [],
   "source": [
    "import numpy as np \n",
    "import pandas as pd \n",
    "import matplotlib.pyplot as plt\n",
    "import seaborn as sns\n",
    "import scipy.stats as sts\n",
    "from warnings import filterwarnings\n",
    "filterwarnings('ignore')"
   ]
  },
  {
   "cell_type": "code",
   "execution_count": 167,
   "id": "cd707538",
   "metadata": {},
   "outputs": [],
   "source": [
    "# to show the all the columns\n",
    "pd.options.display.max_columns = None\n",
    "\n",
    "# display all rows of the dataframe\n",
    "#pd.options.display.max_rows = None\n",
    "\n",
    "plt.rcParams['figure.figsize'] = [10,5]"
   ]
  },
  {
   "cell_type": "markdown",
   "id": "0e447277",
   "metadata": {},
   "source": [
    "### Read csv file"
   ]
  },
  {
   "cell_type": "code",
   "execution_count": 168,
   "id": "60945e5d",
   "metadata": {},
   "outputs": [],
   "source": [
    "df = pd.read_csv('train.csv')"
   ]
  },
  {
   "cell_type": "code",
   "execution_count": 169,
   "id": "458fe190",
   "metadata": {},
   "outputs": [
    {
     "data": {
      "text/html": [
       "<div>\n",
       "<style scoped>\n",
       "    .dataframe tbody tr th:only-of-type {\n",
       "        vertical-align: middle;\n",
       "    }\n",
       "\n",
       "    .dataframe tbody tr th {\n",
       "        vertical-align: top;\n",
       "    }\n",
       "\n",
       "    .dataframe thead th {\n",
       "        text-align: right;\n",
       "    }\n",
       "</style>\n",
       "<table border=\"1\" class=\"dataframe\">\n",
       "  <thead>\n",
       "    <tr style=\"text-align: right;\">\n",
       "      <th></th>\n",
       "      <th>UniqueID</th>\n",
       "      <th>disbursed_amount</th>\n",
       "      <th>asset_cost</th>\n",
       "      <th>ltv</th>\n",
       "      <th>branch_id</th>\n",
       "      <th>supplier_id</th>\n",
       "      <th>manufacturer_id</th>\n",
       "      <th>Current_pincode_ID</th>\n",
       "      <th>Date.of.Birth</th>\n",
       "      <th>Employment.Type</th>\n",
       "      <th>DisbursalDate</th>\n",
       "      <th>State_ID</th>\n",
       "      <th>Employee_code_ID</th>\n",
       "      <th>MobileNo_Avl_Flag</th>\n",
       "      <th>Aadhar_flag</th>\n",
       "      <th>PAN_flag</th>\n",
       "      <th>VoterID_flag</th>\n",
       "      <th>Driving_flag</th>\n",
       "      <th>Passport_flag</th>\n",
       "      <th>PERFORM_CNS.SCORE</th>\n",
       "      <th>PERFORM_CNS.SCORE.DESCRIPTION</th>\n",
       "      <th>PRI.NO.OF.ACCTS</th>\n",
       "      <th>PRI.ACTIVE.ACCTS</th>\n",
       "      <th>PRI.OVERDUE.ACCTS</th>\n",
       "      <th>PRI.CURRENT.BALANCE</th>\n",
       "      <th>PRI.SANCTIONED.AMOUNT</th>\n",
       "      <th>PRI.DISBURSED.AMOUNT</th>\n",
       "      <th>SEC.NO.OF.ACCTS</th>\n",
       "      <th>SEC.ACTIVE.ACCTS</th>\n",
       "      <th>SEC.OVERDUE.ACCTS</th>\n",
       "      <th>SEC.CURRENT.BALANCE</th>\n",
       "      <th>SEC.SANCTIONED.AMOUNT</th>\n",
       "      <th>SEC.DISBURSED.AMOUNT</th>\n",
       "      <th>PRIMARY.INSTAL.AMT</th>\n",
       "      <th>SEC.INSTAL.AMT</th>\n",
       "      <th>NEW.ACCTS.IN.LAST.SIX.MONTHS</th>\n",
       "      <th>DELINQUENT.ACCTS.IN.LAST.SIX.MONTHS</th>\n",
       "      <th>AVERAGE.ACCT.AGE</th>\n",
       "      <th>CREDIT.HISTORY.LENGTH</th>\n",
       "      <th>NO.OF_INQUIRIES</th>\n",
       "      <th>loan_default</th>\n",
       "    </tr>\n",
       "  </thead>\n",
       "  <tbody>\n",
       "    <tr>\n",
       "      <th>0</th>\n",
       "      <td>420825</td>\n",
       "      <td>50578</td>\n",
       "      <td>58400</td>\n",
       "      <td>89.55</td>\n",
       "      <td>67</td>\n",
       "      <td>22807</td>\n",
       "      <td>45</td>\n",
       "      <td>1441</td>\n",
       "      <td>01-01-84</td>\n",
       "      <td>Salaried</td>\n",
       "      <td>03-08-18</td>\n",
       "      <td>6</td>\n",
       "      <td>1998</td>\n",
       "      <td>1</td>\n",
       "      <td>1</td>\n",
       "      <td>0</td>\n",
       "      <td>0</td>\n",
       "      <td>0</td>\n",
       "      <td>0</td>\n",
       "      <td>0</td>\n",
       "      <td>No Bureau History Available</td>\n",
       "      <td>0</td>\n",
       "      <td>0</td>\n",
       "      <td>0</td>\n",
       "      <td>0</td>\n",
       "      <td>0</td>\n",
       "      <td>0</td>\n",
       "      <td>0</td>\n",
       "      <td>0</td>\n",
       "      <td>0</td>\n",
       "      <td>0</td>\n",
       "      <td>0</td>\n",
       "      <td>0</td>\n",
       "      <td>0</td>\n",
       "      <td>0</td>\n",
       "      <td>0</td>\n",
       "      <td>0</td>\n",
       "      <td>0yrs 0mon</td>\n",
       "      <td>0yrs 0mon</td>\n",
       "      <td>0</td>\n",
       "      <td>0</td>\n",
       "    </tr>\n",
       "    <tr>\n",
       "      <th>1</th>\n",
       "      <td>537409</td>\n",
       "      <td>47145</td>\n",
       "      <td>65550</td>\n",
       "      <td>73.23</td>\n",
       "      <td>67</td>\n",
       "      <td>22807</td>\n",
       "      <td>45</td>\n",
       "      <td>1502</td>\n",
       "      <td>31-07-85</td>\n",
       "      <td>Self employed</td>\n",
       "      <td>26-09-18</td>\n",
       "      <td>6</td>\n",
       "      <td>1998</td>\n",
       "      <td>1</td>\n",
       "      <td>1</td>\n",
       "      <td>0</td>\n",
       "      <td>0</td>\n",
       "      <td>0</td>\n",
       "      <td>0</td>\n",
       "      <td>598</td>\n",
       "      <td>I-Medium Risk</td>\n",
       "      <td>1</td>\n",
       "      <td>1</td>\n",
       "      <td>1</td>\n",
       "      <td>27600</td>\n",
       "      <td>50200</td>\n",
       "      <td>50200</td>\n",
       "      <td>0</td>\n",
       "      <td>0</td>\n",
       "      <td>0</td>\n",
       "      <td>0</td>\n",
       "      <td>0</td>\n",
       "      <td>0</td>\n",
       "      <td>1991</td>\n",
       "      <td>0</td>\n",
       "      <td>0</td>\n",
       "      <td>1</td>\n",
       "      <td>1yrs 11mon</td>\n",
       "      <td>1yrs 11mon</td>\n",
       "      <td>0</td>\n",
       "      <td>1</td>\n",
       "    </tr>\n",
       "    <tr>\n",
       "      <th>2</th>\n",
       "      <td>417566</td>\n",
       "      <td>53278</td>\n",
       "      <td>61360</td>\n",
       "      <td>89.63</td>\n",
       "      <td>67</td>\n",
       "      <td>22807</td>\n",
       "      <td>45</td>\n",
       "      <td>1497</td>\n",
       "      <td>24-08-85</td>\n",
       "      <td>Self employed</td>\n",
       "      <td>01-08-18</td>\n",
       "      <td>6</td>\n",
       "      <td>1998</td>\n",
       "      <td>1</td>\n",
       "      <td>1</td>\n",
       "      <td>0</td>\n",
       "      <td>0</td>\n",
       "      <td>0</td>\n",
       "      <td>0</td>\n",
       "      <td>0</td>\n",
       "      <td>No Bureau History Available</td>\n",
       "      <td>0</td>\n",
       "      <td>0</td>\n",
       "      <td>0</td>\n",
       "      <td>0</td>\n",
       "      <td>0</td>\n",
       "      <td>0</td>\n",
       "      <td>0</td>\n",
       "      <td>0</td>\n",
       "      <td>0</td>\n",
       "      <td>0</td>\n",
       "      <td>0</td>\n",
       "      <td>0</td>\n",
       "      <td>0</td>\n",
       "      <td>0</td>\n",
       "      <td>0</td>\n",
       "      <td>0</td>\n",
       "      <td>0yrs 0mon</td>\n",
       "      <td>0yrs 0mon</td>\n",
       "      <td>0</td>\n",
       "      <td>0</td>\n",
       "    </tr>\n",
       "    <tr>\n",
       "      <th>3</th>\n",
       "      <td>624493</td>\n",
       "      <td>57513</td>\n",
       "      <td>66113</td>\n",
       "      <td>88.48</td>\n",
       "      <td>67</td>\n",
       "      <td>22807</td>\n",
       "      <td>45</td>\n",
       "      <td>1501</td>\n",
       "      <td>30-12-93</td>\n",
       "      <td>Self employed</td>\n",
       "      <td>26-10-18</td>\n",
       "      <td>6</td>\n",
       "      <td>1998</td>\n",
       "      <td>1</td>\n",
       "      <td>1</td>\n",
       "      <td>0</td>\n",
       "      <td>0</td>\n",
       "      <td>0</td>\n",
       "      <td>0</td>\n",
       "      <td>305</td>\n",
       "      <td>L-Very High Risk</td>\n",
       "      <td>3</td>\n",
       "      <td>0</td>\n",
       "      <td>0</td>\n",
       "      <td>0</td>\n",
       "      <td>0</td>\n",
       "      <td>0</td>\n",
       "      <td>0</td>\n",
       "      <td>0</td>\n",
       "      <td>0</td>\n",
       "      <td>0</td>\n",
       "      <td>0</td>\n",
       "      <td>0</td>\n",
       "      <td>31</td>\n",
       "      <td>0</td>\n",
       "      <td>0</td>\n",
       "      <td>0</td>\n",
       "      <td>0yrs 8mon</td>\n",
       "      <td>1yrs 3mon</td>\n",
       "      <td>1</td>\n",
       "      <td>1</td>\n",
       "    </tr>\n",
       "    <tr>\n",
       "      <th>4</th>\n",
       "      <td>539055</td>\n",
       "      <td>52378</td>\n",
       "      <td>60300</td>\n",
       "      <td>88.39</td>\n",
       "      <td>67</td>\n",
       "      <td>22807</td>\n",
       "      <td>45</td>\n",
       "      <td>1495</td>\n",
       "      <td>09-12-77</td>\n",
       "      <td>Self employed</td>\n",
       "      <td>26-09-18</td>\n",
       "      <td>6</td>\n",
       "      <td>1998</td>\n",
       "      <td>1</td>\n",
       "      <td>1</td>\n",
       "      <td>0</td>\n",
       "      <td>0</td>\n",
       "      <td>0</td>\n",
       "      <td>0</td>\n",
       "      <td>0</td>\n",
       "      <td>No Bureau History Available</td>\n",
       "      <td>0</td>\n",
       "      <td>0</td>\n",
       "      <td>0</td>\n",
       "      <td>0</td>\n",
       "      <td>0</td>\n",
       "      <td>0</td>\n",
       "      <td>0</td>\n",
       "      <td>0</td>\n",
       "      <td>0</td>\n",
       "      <td>0</td>\n",
       "      <td>0</td>\n",
       "      <td>0</td>\n",
       "      <td>0</td>\n",
       "      <td>0</td>\n",
       "      <td>0</td>\n",
       "      <td>0</td>\n",
       "      <td>0yrs 0mon</td>\n",
       "      <td>0yrs 0mon</td>\n",
       "      <td>1</td>\n",
       "      <td>1</td>\n",
       "    </tr>\n",
       "  </tbody>\n",
       "</table>\n",
       "</div>"
      ],
      "text/plain": [
       "   UniqueID  disbursed_amount  asset_cost    ltv  branch_id  supplier_id  \\\n",
       "0    420825             50578       58400  89.55         67        22807   \n",
       "1    537409             47145       65550  73.23         67        22807   \n",
       "2    417566             53278       61360  89.63         67        22807   \n",
       "3    624493             57513       66113  88.48         67        22807   \n",
       "4    539055             52378       60300  88.39         67        22807   \n",
       "\n",
       "   manufacturer_id  Current_pincode_ID Date.of.Birth Employment.Type  \\\n",
       "0               45                1441      01-01-84        Salaried   \n",
       "1               45                1502      31-07-85   Self employed   \n",
       "2               45                1497      24-08-85   Self employed   \n",
       "3               45                1501      30-12-93   Self employed   \n",
       "4               45                1495      09-12-77   Self employed   \n",
       "\n",
       "  DisbursalDate  State_ID  Employee_code_ID  MobileNo_Avl_Flag  Aadhar_flag  \\\n",
       "0      03-08-18         6              1998                  1            1   \n",
       "1      26-09-18         6              1998                  1            1   \n",
       "2      01-08-18         6              1998                  1            1   \n",
       "3      26-10-18         6              1998                  1            1   \n",
       "4      26-09-18         6              1998                  1            1   \n",
       "\n",
       "   PAN_flag  VoterID_flag  Driving_flag  Passport_flag  PERFORM_CNS.SCORE  \\\n",
       "0         0             0             0              0                  0   \n",
       "1         0             0             0              0                598   \n",
       "2         0             0             0              0                  0   \n",
       "3         0             0             0              0                305   \n",
       "4         0             0             0              0                  0   \n",
       "\n",
       "  PERFORM_CNS.SCORE.DESCRIPTION  PRI.NO.OF.ACCTS  PRI.ACTIVE.ACCTS  \\\n",
       "0   No Bureau History Available                0                 0   \n",
       "1                 I-Medium Risk                1                 1   \n",
       "2   No Bureau History Available                0                 0   \n",
       "3              L-Very High Risk                3                 0   \n",
       "4   No Bureau History Available                0                 0   \n",
       "\n",
       "   PRI.OVERDUE.ACCTS  PRI.CURRENT.BALANCE  PRI.SANCTIONED.AMOUNT  \\\n",
       "0                  0                    0                      0   \n",
       "1                  1                27600                  50200   \n",
       "2                  0                    0                      0   \n",
       "3                  0                    0                      0   \n",
       "4                  0                    0                      0   \n",
       "\n",
       "   PRI.DISBURSED.AMOUNT  SEC.NO.OF.ACCTS  SEC.ACTIVE.ACCTS  SEC.OVERDUE.ACCTS  \\\n",
       "0                     0                0                 0                  0   \n",
       "1                 50200                0                 0                  0   \n",
       "2                     0                0                 0                  0   \n",
       "3                     0                0                 0                  0   \n",
       "4                     0                0                 0                  0   \n",
       "\n",
       "   SEC.CURRENT.BALANCE  SEC.SANCTIONED.AMOUNT  SEC.DISBURSED.AMOUNT  \\\n",
       "0                    0                      0                     0   \n",
       "1                    0                      0                     0   \n",
       "2                    0                      0                     0   \n",
       "3                    0                      0                     0   \n",
       "4                    0                      0                     0   \n",
       "\n",
       "   PRIMARY.INSTAL.AMT  SEC.INSTAL.AMT  NEW.ACCTS.IN.LAST.SIX.MONTHS  \\\n",
       "0                   0               0                             0   \n",
       "1                1991               0                             0   \n",
       "2                   0               0                             0   \n",
       "3                  31               0                             0   \n",
       "4                   0               0                             0   \n",
       "\n",
       "   DELINQUENT.ACCTS.IN.LAST.SIX.MONTHS AVERAGE.ACCT.AGE CREDIT.HISTORY.LENGTH  \\\n",
       "0                                    0        0yrs 0mon             0yrs 0mon   \n",
       "1                                    1       1yrs 11mon            1yrs 11mon   \n",
       "2                                    0        0yrs 0mon             0yrs 0mon   \n",
       "3                                    0        0yrs 8mon             1yrs 3mon   \n",
       "4                                    0        0yrs 0mon             0yrs 0mon   \n",
       "\n",
       "   NO.OF_INQUIRIES  loan_default  \n",
       "0                0             0  \n",
       "1                0             1  \n",
       "2                0             0  \n",
       "3                1             1  \n",
       "4                1             1  "
      ]
     },
     "execution_count": 169,
     "metadata": {},
     "output_type": "execute_result"
    }
   ],
   "source": [
    "df.head(5)"
   ]
  },
  {
   "cell_type": "code",
   "execution_count": 170,
   "id": "3716ef8d",
   "metadata": {},
   "outputs": [
    {
     "data": {
      "text/plain": [
       "(233154, 41)"
      ]
     },
     "execution_count": 170,
     "metadata": {},
     "output_type": "execute_result"
    }
   ],
   "source": [
    "df.shape\n",
    "\n",
    "# We have total 233154 rows and 41 columns"
   ]
  },
  {
   "cell_type": "code",
   "execution_count": 171,
   "id": "0643d37c",
   "metadata": {},
   "outputs": [
    {
     "data": {
      "text/plain": [
       "UniqueID                                 int64\n",
       "disbursed_amount                         int64\n",
       "asset_cost                               int64\n",
       "ltv                                    float64\n",
       "branch_id                                int64\n",
       "supplier_id                              int64\n",
       "manufacturer_id                          int64\n",
       "Current_pincode_ID                       int64\n",
       "Date.of.Birth                           object\n",
       "Employment.Type                         object\n",
       "DisbursalDate                           object\n",
       "State_ID                                 int64\n",
       "Employee_code_ID                         int64\n",
       "MobileNo_Avl_Flag                        int64\n",
       "Aadhar_flag                              int64\n",
       "PAN_flag                                 int64\n",
       "VoterID_flag                             int64\n",
       "Driving_flag                             int64\n",
       "Passport_flag                            int64\n",
       "PERFORM_CNS.SCORE                        int64\n",
       "PERFORM_CNS.SCORE.DESCRIPTION           object\n",
       "PRI.NO.OF.ACCTS                          int64\n",
       "PRI.ACTIVE.ACCTS                         int64\n",
       "PRI.OVERDUE.ACCTS                        int64\n",
       "PRI.CURRENT.BALANCE                      int64\n",
       "PRI.SANCTIONED.AMOUNT                    int64\n",
       "PRI.DISBURSED.AMOUNT                     int64\n",
       "SEC.NO.OF.ACCTS                          int64\n",
       "SEC.ACTIVE.ACCTS                         int64\n",
       "SEC.OVERDUE.ACCTS                        int64\n",
       "SEC.CURRENT.BALANCE                      int64\n",
       "SEC.SANCTIONED.AMOUNT                    int64\n",
       "SEC.DISBURSED.AMOUNT                     int64\n",
       "PRIMARY.INSTAL.AMT                       int64\n",
       "SEC.INSTAL.AMT                           int64\n",
       "NEW.ACCTS.IN.LAST.SIX.MONTHS             int64\n",
       "DELINQUENT.ACCTS.IN.LAST.SIX.MONTHS      int64\n",
       "AVERAGE.ACCT.AGE                        object\n",
       "CREDIT.HISTORY.LENGTH                   object\n",
       "NO.OF_INQUIRIES                          int64\n",
       "loan_default                             int64\n",
       "dtype: object"
      ]
     },
     "execution_count": 171,
     "metadata": {},
     "output_type": "execute_result"
    }
   ],
   "source": [
    "# Data types of variable\n",
    "df.dtypes"
   ]
  },
  {
   "cell_type": "code",
   "execution_count": 172,
   "id": "f9900c1d",
   "metadata": {},
   "outputs": [],
   "source": [
    "# For easy access of columns name we are replacing '.' to '_'\n",
    "col = []\n",
    "for i in df.columns:\n",
    "    a = i.replace('.','_')\n",
    "    col.append(a)\n",
    "df.columns = col"
   ]
  },
  {
   "cell_type": "code",
   "execution_count": 173,
   "id": "b3f31cd2",
   "metadata": {},
   "outputs": [],
   "source": [
    "# Changing Incorrect Data Types\n",
    "df['UniqueID'] = df.UniqueID.astype('object')\n",
    "df['branch_id'] = df.branch_id.astype('object')\n",
    "df['supplier_id'] = df.supplier_id.astype('object')\n",
    "df['manufacturer_id'] = df.manufacturer_id.astype('object')\n",
    "df['Current_pincode_ID'] = df.Current_pincode_ID.astype('object')\n",
    "df['Employee_code_ID'] = df.Employee_code_ID.astype('object')\n",
    "df['State_ID'] = df.State_ID.astype('object')\n",
    "df['Date_of_Birth'] = df.Date_of_Birth.astype('datetime64', '%d-%m-%y')\n",
    "df['DisbursalDate'] = df['DisbursalDate'].astype('datetime64', '%d-%m-%y')\n",
    "df['MobileNo_Avl_Flag'] = df.MobileNo_Avl_Flag.astype('object')\n",
    "df['Aadhar_flag'] = df.Aadhar_flag.astype('object')\n",
    "df['PAN_flag']= df.PAN_flag.astype('object')\n",
    "df['VoterID_flag']= df.VoterID_flag.astype('object')\n",
    "df['Passport_flag']=df.Passport_flag.astype('object')\n",
    "df['Driving_flag'] = df.Driving_flag.astype('object')\n",
    "df['loan_default'] = df.loan_default.astype('object')"
   ]
  },
  {
   "cell_type": "code",
   "execution_count": 174,
   "id": "e1165720",
   "metadata": {},
   "outputs": [
    {
     "data": {
      "text/html": [
       "<div>\n",
       "<style scoped>\n",
       "    .dataframe tbody tr th:only-of-type {\n",
       "        vertical-align: middle;\n",
       "    }\n",
       "\n",
       "    .dataframe tbody tr th {\n",
       "        vertical-align: top;\n",
       "    }\n",
       "\n",
       "    .dataframe thead th {\n",
       "        text-align: right;\n",
       "    }\n",
       "</style>\n",
       "<table border=\"1\" class=\"dataframe\">\n",
       "  <thead>\n",
       "    <tr style=\"text-align: right;\">\n",
       "      <th></th>\n",
       "      <th>disbursed_amount</th>\n",
       "      <th>asset_cost</th>\n",
       "      <th>ltv</th>\n",
       "      <th>PERFORM_CNS_SCORE</th>\n",
       "      <th>PRI_NO_OF_ACCTS</th>\n",
       "      <th>PRI_ACTIVE_ACCTS</th>\n",
       "      <th>PRI_OVERDUE_ACCTS</th>\n",
       "      <th>PRI_CURRENT_BALANCE</th>\n",
       "      <th>PRI_SANCTIONED_AMOUNT</th>\n",
       "      <th>PRI_DISBURSED_AMOUNT</th>\n",
       "      <th>SEC_NO_OF_ACCTS</th>\n",
       "      <th>SEC_ACTIVE_ACCTS</th>\n",
       "      <th>SEC_OVERDUE_ACCTS</th>\n",
       "      <th>SEC_CURRENT_BALANCE</th>\n",
       "      <th>SEC_SANCTIONED_AMOUNT</th>\n",
       "      <th>SEC_DISBURSED_AMOUNT</th>\n",
       "      <th>PRIMARY_INSTAL_AMT</th>\n",
       "      <th>SEC_INSTAL_AMT</th>\n",
       "      <th>NEW_ACCTS_IN_LAST_SIX_MONTHS</th>\n",
       "      <th>DELINQUENT_ACCTS_IN_LAST_SIX_MONTHS</th>\n",
       "      <th>NO_OF_INQUIRIES</th>\n",
       "    </tr>\n",
       "  </thead>\n",
       "  <tbody>\n",
       "    <tr>\n",
       "      <th>count</th>\n",
       "      <td>233154.000000</td>\n",
       "      <td>2.331540e+05</td>\n",
       "      <td>233154.000000</td>\n",
       "      <td>233154.000000</td>\n",
       "      <td>233154.000000</td>\n",
       "      <td>233154.000000</td>\n",
       "      <td>233154.000000</td>\n",
       "      <td>2.331540e+05</td>\n",
       "      <td>2.331540e+05</td>\n",
       "      <td>2.331540e+05</td>\n",
       "      <td>233154.000000</td>\n",
       "      <td>233154.000000</td>\n",
       "      <td>233154.000000</td>\n",
       "      <td>2.331540e+05</td>\n",
       "      <td>2.331540e+05</td>\n",
       "      <td>2.331540e+05</td>\n",
       "      <td>2.331540e+05</td>\n",
       "      <td>2.331540e+05</td>\n",
       "      <td>233154.000000</td>\n",
       "      <td>233154.000000</td>\n",
       "      <td>233154.000000</td>\n",
       "    </tr>\n",
       "    <tr>\n",
       "      <th>mean</th>\n",
       "      <td>54356.993528</td>\n",
       "      <td>7.586507e+04</td>\n",
       "      <td>74.746530</td>\n",
       "      <td>289.462994</td>\n",
       "      <td>2.440636</td>\n",
       "      <td>1.039896</td>\n",
       "      <td>0.156549</td>\n",
       "      <td>1.659001e+05</td>\n",
       "      <td>2.185039e+05</td>\n",
       "      <td>2.180659e+05</td>\n",
       "      <td>0.059081</td>\n",
       "      <td>0.027703</td>\n",
       "      <td>0.007244</td>\n",
       "      <td>5.427793e+03</td>\n",
       "      <td>7.295923e+03</td>\n",
       "      <td>7.179998e+03</td>\n",
       "      <td>1.310548e+04</td>\n",
       "      <td>3.232684e+02</td>\n",
       "      <td>0.381833</td>\n",
       "      <td>0.097481</td>\n",
       "      <td>0.206615</td>\n",
       "    </tr>\n",
       "    <tr>\n",
       "      <th>std</th>\n",
       "      <td>12971.314171</td>\n",
       "      <td>1.894478e+04</td>\n",
       "      <td>11.456636</td>\n",
       "      <td>338.374779</td>\n",
       "      <td>5.217233</td>\n",
       "      <td>1.941496</td>\n",
       "      <td>0.548787</td>\n",
       "      <td>9.422736e+05</td>\n",
       "      <td>2.374794e+06</td>\n",
       "      <td>2.377744e+06</td>\n",
       "      <td>0.626795</td>\n",
       "      <td>0.316057</td>\n",
       "      <td>0.111079</td>\n",
       "      <td>1.702370e+05</td>\n",
       "      <td>1.831560e+05</td>\n",
       "      <td>1.825925e+05</td>\n",
       "      <td>1.513679e+05</td>\n",
       "      <td>1.555369e+04</td>\n",
       "      <td>0.955107</td>\n",
       "      <td>0.384439</td>\n",
       "      <td>0.706498</td>\n",
       "    </tr>\n",
       "    <tr>\n",
       "      <th>min</th>\n",
       "      <td>13320.000000</td>\n",
       "      <td>3.700000e+04</td>\n",
       "      <td>10.030000</td>\n",
       "      <td>0.000000</td>\n",
       "      <td>0.000000</td>\n",
       "      <td>0.000000</td>\n",
       "      <td>0.000000</td>\n",
       "      <td>-6.678296e+06</td>\n",
       "      <td>0.000000e+00</td>\n",
       "      <td>0.000000e+00</td>\n",
       "      <td>0.000000</td>\n",
       "      <td>0.000000</td>\n",
       "      <td>0.000000</td>\n",
       "      <td>-5.746470e+05</td>\n",
       "      <td>0.000000e+00</td>\n",
       "      <td>0.000000e+00</td>\n",
       "      <td>0.000000e+00</td>\n",
       "      <td>0.000000e+00</td>\n",
       "      <td>0.000000</td>\n",
       "      <td>0.000000</td>\n",
       "      <td>0.000000</td>\n",
       "    </tr>\n",
       "    <tr>\n",
       "      <th>25%</th>\n",
       "      <td>47145.000000</td>\n",
       "      <td>6.571700e+04</td>\n",
       "      <td>68.880000</td>\n",
       "      <td>0.000000</td>\n",
       "      <td>0.000000</td>\n",
       "      <td>0.000000</td>\n",
       "      <td>0.000000</td>\n",
       "      <td>0.000000e+00</td>\n",
       "      <td>0.000000e+00</td>\n",
       "      <td>0.000000e+00</td>\n",
       "      <td>0.000000</td>\n",
       "      <td>0.000000</td>\n",
       "      <td>0.000000</td>\n",
       "      <td>0.000000e+00</td>\n",
       "      <td>0.000000e+00</td>\n",
       "      <td>0.000000e+00</td>\n",
       "      <td>0.000000e+00</td>\n",
       "      <td>0.000000e+00</td>\n",
       "      <td>0.000000</td>\n",
       "      <td>0.000000</td>\n",
       "      <td>0.000000</td>\n",
       "    </tr>\n",
       "    <tr>\n",
       "      <th>50%</th>\n",
       "      <td>53803.000000</td>\n",
       "      <td>7.094600e+04</td>\n",
       "      <td>76.800000</td>\n",
       "      <td>0.000000</td>\n",
       "      <td>0.000000</td>\n",
       "      <td>0.000000</td>\n",
       "      <td>0.000000</td>\n",
       "      <td>0.000000e+00</td>\n",
       "      <td>0.000000e+00</td>\n",
       "      <td>0.000000e+00</td>\n",
       "      <td>0.000000</td>\n",
       "      <td>0.000000</td>\n",
       "      <td>0.000000</td>\n",
       "      <td>0.000000e+00</td>\n",
       "      <td>0.000000e+00</td>\n",
       "      <td>0.000000e+00</td>\n",
       "      <td>0.000000e+00</td>\n",
       "      <td>0.000000e+00</td>\n",
       "      <td>0.000000</td>\n",
       "      <td>0.000000</td>\n",
       "      <td>0.000000</td>\n",
       "    </tr>\n",
       "    <tr>\n",
       "      <th>75%</th>\n",
       "      <td>60413.000000</td>\n",
       "      <td>7.920175e+04</td>\n",
       "      <td>83.670000</td>\n",
       "      <td>678.000000</td>\n",
       "      <td>3.000000</td>\n",
       "      <td>1.000000</td>\n",
       "      <td>0.000000</td>\n",
       "      <td>3.500650e+04</td>\n",
       "      <td>6.250000e+04</td>\n",
       "      <td>6.080000e+04</td>\n",
       "      <td>0.000000</td>\n",
       "      <td>0.000000</td>\n",
       "      <td>0.000000</td>\n",
       "      <td>0.000000e+00</td>\n",
       "      <td>0.000000e+00</td>\n",
       "      <td>0.000000e+00</td>\n",
       "      <td>1.999000e+03</td>\n",
       "      <td>0.000000e+00</td>\n",
       "      <td>0.000000</td>\n",
       "      <td>0.000000</td>\n",
       "      <td>0.000000</td>\n",
       "    </tr>\n",
       "    <tr>\n",
       "      <th>max</th>\n",
       "      <td>990572.000000</td>\n",
       "      <td>1.628992e+06</td>\n",
       "      <td>95.000000</td>\n",
       "      <td>890.000000</td>\n",
       "      <td>453.000000</td>\n",
       "      <td>144.000000</td>\n",
       "      <td>25.000000</td>\n",
       "      <td>9.652492e+07</td>\n",
       "      <td>1.000000e+09</td>\n",
       "      <td>1.000000e+09</td>\n",
       "      <td>52.000000</td>\n",
       "      <td>36.000000</td>\n",
       "      <td>8.000000</td>\n",
       "      <td>3.603285e+07</td>\n",
       "      <td>3.000000e+07</td>\n",
       "      <td>3.000000e+07</td>\n",
       "      <td>2.564281e+07</td>\n",
       "      <td>4.170901e+06</td>\n",
       "      <td>35.000000</td>\n",
       "      <td>20.000000</td>\n",
       "      <td>36.000000</td>\n",
       "    </tr>\n",
       "  </tbody>\n",
       "</table>\n",
       "</div>"
      ],
      "text/plain": [
       "       disbursed_amount    asset_cost            ltv  PERFORM_CNS_SCORE  \\\n",
       "count     233154.000000  2.331540e+05  233154.000000      233154.000000   \n",
       "mean       54356.993528  7.586507e+04      74.746530         289.462994   \n",
       "std        12971.314171  1.894478e+04      11.456636         338.374779   \n",
       "min        13320.000000  3.700000e+04      10.030000           0.000000   \n",
       "25%        47145.000000  6.571700e+04      68.880000           0.000000   \n",
       "50%        53803.000000  7.094600e+04      76.800000           0.000000   \n",
       "75%        60413.000000  7.920175e+04      83.670000         678.000000   \n",
       "max       990572.000000  1.628992e+06      95.000000         890.000000   \n",
       "\n",
       "       PRI_NO_OF_ACCTS  PRI_ACTIVE_ACCTS  PRI_OVERDUE_ACCTS  \\\n",
       "count    233154.000000     233154.000000      233154.000000   \n",
       "mean          2.440636          1.039896           0.156549   \n",
       "std           5.217233          1.941496           0.548787   \n",
       "min           0.000000          0.000000           0.000000   \n",
       "25%           0.000000          0.000000           0.000000   \n",
       "50%           0.000000          0.000000           0.000000   \n",
       "75%           3.000000          1.000000           0.000000   \n",
       "max         453.000000        144.000000          25.000000   \n",
       "\n",
       "       PRI_CURRENT_BALANCE  PRI_SANCTIONED_AMOUNT  PRI_DISBURSED_AMOUNT  \\\n",
       "count         2.331540e+05           2.331540e+05          2.331540e+05   \n",
       "mean          1.659001e+05           2.185039e+05          2.180659e+05   \n",
       "std           9.422736e+05           2.374794e+06          2.377744e+06   \n",
       "min          -6.678296e+06           0.000000e+00          0.000000e+00   \n",
       "25%           0.000000e+00           0.000000e+00          0.000000e+00   \n",
       "50%           0.000000e+00           0.000000e+00          0.000000e+00   \n",
       "75%           3.500650e+04           6.250000e+04          6.080000e+04   \n",
       "max           9.652492e+07           1.000000e+09          1.000000e+09   \n",
       "\n",
       "       SEC_NO_OF_ACCTS  SEC_ACTIVE_ACCTS  SEC_OVERDUE_ACCTS  \\\n",
       "count    233154.000000     233154.000000      233154.000000   \n",
       "mean          0.059081          0.027703           0.007244   \n",
       "std           0.626795          0.316057           0.111079   \n",
       "min           0.000000          0.000000           0.000000   \n",
       "25%           0.000000          0.000000           0.000000   \n",
       "50%           0.000000          0.000000           0.000000   \n",
       "75%           0.000000          0.000000           0.000000   \n",
       "max          52.000000         36.000000           8.000000   \n",
       "\n",
       "       SEC_CURRENT_BALANCE  SEC_SANCTIONED_AMOUNT  SEC_DISBURSED_AMOUNT  \\\n",
       "count         2.331540e+05           2.331540e+05          2.331540e+05   \n",
       "mean          5.427793e+03           7.295923e+03          7.179998e+03   \n",
       "std           1.702370e+05           1.831560e+05          1.825925e+05   \n",
       "min          -5.746470e+05           0.000000e+00          0.000000e+00   \n",
       "25%           0.000000e+00           0.000000e+00          0.000000e+00   \n",
       "50%           0.000000e+00           0.000000e+00          0.000000e+00   \n",
       "75%           0.000000e+00           0.000000e+00          0.000000e+00   \n",
       "max           3.603285e+07           3.000000e+07          3.000000e+07   \n",
       "\n",
       "       PRIMARY_INSTAL_AMT  SEC_INSTAL_AMT  NEW_ACCTS_IN_LAST_SIX_MONTHS  \\\n",
       "count        2.331540e+05    2.331540e+05                 233154.000000   \n",
       "mean         1.310548e+04    3.232684e+02                      0.381833   \n",
       "std          1.513679e+05    1.555369e+04                      0.955107   \n",
       "min          0.000000e+00    0.000000e+00                      0.000000   \n",
       "25%          0.000000e+00    0.000000e+00                      0.000000   \n",
       "50%          0.000000e+00    0.000000e+00                      0.000000   \n",
       "75%          1.999000e+03    0.000000e+00                      0.000000   \n",
       "max          2.564281e+07    4.170901e+06                     35.000000   \n",
       "\n",
       "       DELINQUENT_ACCTS_IN_LAST_SIX_MONTHS  NO_OF_INQUIRIES  \n",
       "count                        233154.000000    233154.000000  \n",
       "mean                              0.097481         0.206615  \n",
       "std                               0.384439         0.706498  \n",
       "min                               0.000000         0.000000  \n",
       "25%                               0.000000         0.000000  \n",
       "50%                               0.000000         0.000000  \n",
       "75%                               0.000000         0.000000  \n",
       "max                              20.000000        36.000000  "
      ]
     },
     "execution_count": 174,
     "metadata": {},
     "output_type": "execute_result"
    }
   ],
   "source": [
    "# Five point Summary For Numerical variables\n",
    "df.describe()"
   ]
  },
  {
   "cell_type": "raw",
   "id": "9eecabab",
   "metadata": {},
   "source": [
    "# We can see that median for most of variables is near to 0 but that can be possible\n",
    "# primary and secondary current balance variables has minimum is negativalues "
   ]
  },
  {
   "cell_type": "code",
   "execution_count": 175,
   "id": "b3f935e4",
   "metadata": {},
   "outputs": [
    {
     "data": {
      "text/html": [
       "<div>\n",
       "<style scoped>\n",
       "    .dataframe tbody tr th:only-of-type {\n",
       "        vertical-align: middle;\n",
       "    }\n",
       "\n",
       "    .dataframe tbody tr th {\n",
       "        vertical-align: top;\n",
       "    }\n",
       "\n",
       "    .dataframe thead th {\n",
       "        text-align: right;\n",
       "    }\n",
       "</style>\n",
       "<table border=\"1\" class=\"dataframe\">\n",
       "  <thead>\n",
       "    <tr style=\"text-align: right;\">\n",
       "      <th></th>\n",
       "      <th>UniqueID</th>\n",
       "      <th>branch_id</th>\n",
       "      <th>supplier_id</th>\n",
       "      <th>manufacturer_id</th>\n",
       "      <th>Current_pincode_ID</th>\n",
       "      <th>Employment_Type</th>\n",
       "      <th>State_ID</th>\n",
       "      <th>Employee_code_ID</th>\n",
       "      <th>MobileNo_Avl_Flag</th>\n",
       "      <th>Aadhar_flag</th>\n",
       "      <th>PAN_flag</th>\n",
       "      <th>VoterID_flag</th>\n",
       "      <th>Driving_flag</th>\n",
       "      <th>Passport_flag</th>\n",
       "      <th>PERFORM_CNS_SCORE_DESCRIPTION</th>\n",
       "      <th>AVERAGE_ACCT_AGE</th>\n",
       "      <th>CREDIT_HISTORY_LENGTH</th>\n",
       "      <th>loan_default</th>\n",
       "    </tr>\n",
       "  </thead>\n",
       "  <tbody>\n",
       "    <tr>\n",
       "      <th>count</th>\n",
       "      <td>233154</td>\n",
       "      <td>233154</td>\n",
       "      <td>233154</td>\n",
       "      <td>233154</td>\n",
       "      <td>233154</td>\n",
       "      <td>225493</td>\n",
       "      <td>233154</td>\n",
       "      <td>233154</td>\n",
       "      <td>233154</td>\n",
       "      <td>233154</td>\n",
       "      <td>233154</td>\n",
       "      <td>233154</td>\n",
       "      <td>233154</td>\n",
       "      <td>233154</td>\n",
       "      <td>233154</td>\n",
       "      <td>233154</td>\n",
       "      <td>233154</td>\n",
       "      <td>233154</td>\n",
       "    </tr>\n",
       "    <tr>\n",
       "      <th>unique</th>\n",
       "      <td>233154</td>\n",
       "      <td>82</td>\n",
       "      <td>2953</td>\n",
       "      <td>11</td>\n",
       "      <td>6698</td>\n",
       "      <td>2</td>\n",
       "      <td>22</td>\n",
       "      <td>3270</td>\n",
       "      <td>1</td>\n",
       "      <td>2</td>\n",
       "      <td>2</td>\n",
       "      <td>2</td>\n",
       "      <td>2</td>\n",
       "      <td>2</td>\n",
       "      <td>20</td>\n",
       "      <td>192</td>\n",
       "      <td>294</td>\n",
       "      <td>2</td>\n",
       "    </tr>\n",
       "    <tr>\n",
       "      <th>top</th>\n",
       "      <td>420825</td>\n",
       "      <td>2</td>\n",
       "      <td>18317</td>\n",
       "      <td>86</td>\n",
       "      <td>2578</td>\n",
       "      <td>Self employed</td>\n",
       "      <td>4</td>\n",
       "      <td>2546</td>\n",
       "      <td>1</td>\n",
       "      <td>1</td>\n",
       "      <td>0</td>\n",
       "      <td>0</td>\n",
       "      <td>0</td>\n",
       "      <td>0</td>\n",
       "      <td>No Bureau History Available</td>\n",
       "      <td>0yrs 0mon</td>\n",
       "      <td>0yrs 0mon</td>\n",
       "      <td>0</td>\n",
       "    </tr>\n",
       "    <tr>\n",
       "      <th>freq</th>\n",
       "      <td>1</td>\n",
       "      <td>13138</td>\n",
       "      <td>1432</td>\n",
       "      <td>109534</td>\n",
       "      <td>1880</td>\n",
       "      <td>127635</td>\n",
       "      <td>44870</td>\n",
       "      <td>628</td>\n",
       "      <td>233154</td>\n",
       "      <td>195924</td>\n",
       "      <td>215533</td>\n",
       "      <td>199360</td>\n",
       "      <td>227735</td>\n",
       "      <td>232658</td>\n",
       "      <td>116950</td>\n",
       "      <td>119373</td>\n",
       "      <td>119127</td>\n",
       "      <td>182543</td>\n",
       "    </tr>\n",
       "  </tbody>\n",
       "</table>\n",
       "</div>"
      ],
      "text/plain": [
       "        UniqueID  branch_id  supplier_id  manufacturer_id  Current_pincode_ID  \\\n",
       "count     233154     233154       233154           233154              233154   \n",
       "unique    233154         82         2953               11                6698   \n",
       "top       420825          2        18317               86                2578   \n",
       "freq           1      13138         1432           109534                1880   \n",
       "\n",
       "       Employment_Type  State_ID  Employee_code_ID  MobileNo_Avl_Flag  \\\n",
       "count           225493    233154            233154             233154   \n",
       "unique               2        22              3270                  1   \n",
       "top      Self employed         4              2546                  1   \n",
       "freq            127635     44870               628             233154   \n",
       "\n",
       "        Aadhar_flag  PAN_flag  VoterID_flag  Driving_flag  Passport_flag  \\\n",
       "count        233154    233154        233154        233154         233154   \n",
       "unique            2         2             2             2              2   \n",
       "top               1         0             0             0              0   \n",
       "freq         195924    215533        199360        227735         232658   \n",
       "\n",
       "       PERFORM_CNS_SCORE_DESCRIPTION AVERAGE_ACCT_AGE CREDIT_HISTORY_LENGTH  \\\n",
       "count                         233154           233154                233154   \n",
       "unique                            20              192                   294   \n",
       "top      No Bureau History Available        0yrs 0mon             0yrs 0mon   \n",
       "freq                          116950           119373                119127   \n",
       "\n",
       "        loan_default  \n",
       "count         233154  \n",
       "unique             2  \n",
       "top                0  \n",
       "freq          182543  "
      ]
     },
     "execution_count": 175,
     "metadata": {},
     "output_type": "execute_result"
    }
   ],
   "source": [
    "# Five point Summary For Categorical variables\n",
    "df.describe(include = 'object')"
   ]
  },
  {
   "cell_type": "code",
   "execution_count": 176,
   "id": "51192e02",
   "metadata": {},
   "outputs": [],
   "source": [
    "# There some which have more number of unique values we can not move ahead with them\n",
    "# As even they are not showing any kind of pattern\n",
    "df.drop(['UniqueID','branch_id', 'supplier_id', 'Current_pincode_ID','State_ID','Employee_code_ID'], axis = 1, inplace=True)"
   ]
  },
  {
   "cell_type": "code",
   "execution_count": 177,
   "id": "57c962a5",
   "metadata": {},
   "outputs": [],
   "source": [
    "# ALl customer provided mobile no so it does not gives any different information to data\n",
    "del df['MobileNo_Avl_Flag']"
   ]
  },
  {
   "cell_type": "code",
   "execution_count": 178,
   "id": "f1948690",
   "metadata": {},
   "outputs": [
    {
     "name": "stdout",
     "output_type": "stream",
     "text": [
      "Pvalue:  1.5277380091688753e-93\n",
      "Pvalue less than 0.05:  True\n"
     ]
    }
   ],
   "source": [
    "obs = pd.crosstab(df['loan_default'],df['manufacturer_id']).values\n",
    "print('Pvalue: ', sts.chi2_contingency(obs)[1])\n",
    "print('Pvalue less than 0.05: ', sts.chi2_contingency(obs)[1] < 0.05)"
   ]
  },
  {
   "cell_type": "raw",
   "id": "5ed285f6",
   "metadata": {},
   "source": [
    "# Hence reject null hypothesis of chi2_contingency and Accept alternate hypothesis\n",
    "# Both Columns dependent, means manufacturer_id has impact on Target variable"
   ]
  },
  {
   "cell_type": "markdown",
   "id": "08831b4e",
   "metadata": {},
   "source": [
    "# DATA PREPROCESSING\n",
    "## Missing Values"
   ]
  },
  {
   "cell_type": "code",
   "execution_count": 179,
   "id": "dbe57588",
   "metadata": {},
   "outputs": [
    {
     "data": {
      "text/plain": [
       "Employment_Type    3.285811\n",
       "dtype: float64"
      ]
     },
     "execution_count": 179,
     "metadata": {},
     "output_type": "execute_result"
    }
   ],
   "source": [
    "# Missing value in percentage per column\n",
    "df.isnull().sum()[df.isnull().sum()> 0]/len(df)*100"
   ]
  },
  {
   "cell_type": "raw",
   "id": "bca8ed0a",
   "metadata": {},
   "source": [
    "# Only one columns has missing value which is around 3.28 %"
   ]
  },
  {
   "cell_type": "code",
   "execution_count": 180,
   "id": "072d533f",
   "metadata": {},
   "outputs": [
    {
     "data": {
      "text/plain": [
       "Self employed    127635\n",
       "Salaried          97858\n",
       "Name: Employment_Type, dtype: int64"
      ]
     },
     "execution_count": 180,
     "metadata": {},
     "output_type": "execute_result"
    }
   ],
   "source": [
    "# Lets see how is data distributed\n",
    "df.Employment_Type.value_counts()"
   ]
  },
  {
   "cell_type": "code",
   "execution_count": 181,
   "id": "b23c97b4",
   "metadata": {},
   "outputs": [],
   "source": [
    "df.Employment_Type.replace(np.NaN, 'UnEmployeed', inplace=True)"
   ]
  },
  {
   "cell_type": "code",
   "execution_count": 182,
   "id": "7b3e4b25",
   "metadata": {},
   "outputs": [
    {
     "data": {
      "text/plain": [
       "Self employed    127635\n",
       "Salaried          97858\n",
       "UnEmployeed        7661\n",
       "Name: Employment_Type, dtype: int64"
      ]
     },
     "execution_count": 182,
     "metadata": {},
     "output_type": "execute_result"
    }
   ],
   "source": [
    "df['Employment_Type'].value_counts()"
   ]
  },
  {
   "cell_type": "code",
   "execution_count": 183,
   "id": "33661239",
   "metadata": {},
   "outputs": [
    {
     "name": "stdout",
     "output_type": "stream",
     "text": [
      "P value 3.1225422343284505e-42\n",
      "Pvalue less than 0.05:  True\n"
     ]
    }
   ],
   "source": [
    "# Lets Perform chi2_contingency to check wheather is there any impact on target variable\n",
    "table = pd.crosstab(df['Employment_Type'], df['loan_default']).values\n",
    "print('P value', sts.chi2_contingency(table)[1])\n",
    "print('Pvalue less than 0.05: ', sts.chi2_contingency(table)[1] < 0.05)"
   ]
  },
  {
   "cell_type": "raw",
   "id": "d94b4495",
   "metadata": {},
   "source": [
    "As pvalue is less than 0.05 so reject null hypothesis\n",
    "We can see that Employment_Type is significant column which has impact on target variable"
   ]
  },
  {
   "cell_type": "markdown",
   "id": "be074359",
   "metadata": {},
   "source": [
    "## Data Cleaning"
   ]
  },
  {
   "cell_type": "code",
   "execution_count": 184,
   "id": "db225c8b",
   "metadata": {},
   "outputs": [
    {
     "data": {
      "text/html": [
       "<div>\n",
       "<style scoped>\n",
       "    .dataframe tbody tr th:only-of-type {\n",
       "        vertical-align: middle;\n",
       "    }\n",
       "\n",
       "    .dataframe tbody tr th {\n",
       "        vertical-align: top;\n",
       "    }\n",
       "\n",
       "    .dataframe thead th {\n",
       "        text-align: right;\n",
       "    }\n",
       "</style>\n",
       "<table border=\"1\" class=\"dataframe\">\n",
       "  <thead>\n",
       "    <tr style=\"text-align: right;\">\n",
       "      <th></th>\n",
       "      <th>AVERAGE_ACCT_AGE</th>\n",
       "      <th>CREDIT_HISTORY_LENGTH</th>\n",
       "    </tr>\n",
       "  </thead>\n",
       "  <tbody>\n",
       "    <tr>\n",
       "      <th>0</th>\n",
       "      <td>0yrs 0mon</td>\n",
       "      <td>0yrs 0mon</td>\n",
       "    </tr>\n",
       "    <tr>\n",
       "      <th>1</th>\n",
       "      <td>1yrs 11mon</td>\n",
       "      <td>1yrs 11mon</td>\n",
       "    </tr>\n",
       "    <tr>\n",
       "      <th>2</th>\n",
       "      <td>0yrs 0mon</td>\n",
       "      <td>0yrs 0mon</td>\n",
       "    </tr>\n",
       "    <tr>\n",
       "      <th>3</th>\n",
       "      <td>0yrs 8mon</td>\n",
       "      <td>1yrs 3mon</td>\n",
       "    </tr>\n",
       "    <tr>\n",
       "      <th>4</th>\n",
       "      <td>0yrs 0mon</td>\n",
       "      <td>0yrs 0mon</td>\n",
       "    </tr>\n",
       "  </tbody>\n",
       "</table>\n",
       "</div>"
      ],
      "text/plain": [
       "  AVERAGE_ACCT_AGE CREDIT_HISTORY_LENGTH\n",
       "0        0yrs 0mon             0yrs 0mon\n",
       "1       1yrs 11mon            1yrs 11mon\n",
       "2        0yrs 0mon             0yrs 0mon\n",
       "3        0yrs 8mon             1yrs 3mon\n",
       "4        0yrs 0mon             0yrs 0mon"
      ]
     },
     "execution_count": 184,
     "metadata": {},
     "output_type": "execute_result"
    }
   ],
   "source": [
    "df[['AVERAGE_ACCT_AGE','CREDIT_HISTORY_LENGTH']].head()"
   ]
  },
  {
   "cell_type": "code",
   "execution_count": 185,
   "id": "244b64f9",
   "metadata": {},
   "outputs": [
    {
     "data": {
      "text/plain": [
       "0     0yrs 0mon\n",
       "1    1yrs 11mon\n",
       "2     0yrs 0mon\n",
       "3     1yrs 3mon\n",
       "4     0yrs 0mon\n",
       "Name: CREDIT_HISTORY_LENGTH, dtype: object"
      ]
     },
     "execution_count": 185,
     "metadata": {},
     "output_type": "execute_result"
    }
   ],
   "source": [
    "df['CREDIT_HISTORY_LENGTH'].head()"
   ]
  },
  {
   "cell_type": "raw",
   "id": "f0e24608",
   "metadata": {},
   "source": [
    "we will convert these values only into months\n",
    "eg. 1yrs 11mon ----> 1*12 + 11 = 23"
   ]
  },
  {
   "cell_type": "code",
   "execution_count": 186,
   "id": "66405c0f",
   "metadata": {},
   "outputs": [],
   "source": [
    "# lets make function to change it\n",
    "def months(x):\n",
    "    result = int(x.split(' ')[0][:-3])*12 + int(x.split(' ')[1][:-3])\n",
    "    return result"
   ]
  },
  {
   "cell_type": "code",
   "execution_count": 187,
   "id": "cfb46ef0",
   "metadata": {},
   "outputs": [],
   "source": [
    "# Applying on the columns and assigning same name as they had\n",
    "df['AVERAGE_ACCT_AGE'] = df['AVERAGE_ACCT_AGE'].apply(months)\n",
    "df['CREDIT_HISTORY_LENGTH'] = df['CREDIT_HISTORY_LENGTH'].apply(months)"
   ]
  },
  {
   "cell_type": "code",
   "execution_count": 188,
   "id": "fdd71c9c",
   "metadata": {},
   "outputs": [
    {
     "data": {
      "text/html": [
       "<div>\n",
       "<style scoped>\n",
       "    .dataframe tbody tr th:only-of-type {\n",
       "        vertical-align: middle;\n",
       "    }\n",
       "\n",
       "    .dataframe tbody tr th {\n",
       "        vertical-align: top;\n",
       "    }\n",
       "\n",
       "    .dataframe thead th {\n",
       "        text-align: right;\n",
       "    }\n",
       "</style>\n",
       "<table border=\"1\" class=\"dataframe\">\n",
       "  <thead>\n",
       "    <tr style=\"text-align: right;\">\n",
       "      <th></th>\n",
       "      <th>AVERAGE_ACCT_AGE</th>\n",
       "      <th>CREDIT_HISTORY_LENGTH</th>\n",
       "    </tr>\n",
       "  </thead>\n",
       "  <tbody>\n",
       "    <tr>\n",
       "      <th>0</th>\n",
       "      <td>0</td>\n",
       "      <td>0</td>\n",
       "    </tr>\n",
       "    <tr>\n",
       "      <th>1</th>\n",
       "      <td>23</td>\n",
       "      <td>23</td>\n",
       "    </tr>\n",
       "    <tr>\n",
       "      <th>2</th>\n",
       "      <td>0</td>\n",
       "      <td>0</td>\n",
       "    </tr>\n",
       "    <tr>\n",
       "      <th>3</th>\n",
       "      <td>8</td>\n",
       "      <td>15</td>\n",
       "    </tr>\n",
       "    <tr>\n",
       "      <th>4</th>\n",
       "      <td>0</td>\n",
       "      <td>0</td>\n",
       "    </tr>\n",
       "  </tbody>\n",
       "</table>\n",
       "</div>"
      ],
      "text/plain": [
       "   AVERAGE_ACCT_AGE  CREDIT_HISTORY_LENGTH\n",
       "0                 0                      0\n",
       "1                23                     23\n",
       "2                 0                      0\n",
       "3                 8                     15\n",
       "4                 0                      0"
      ]
     },
     "execution_count": 188,
     "metadata": {},
     "output_type": "execute_result"
    }
   ],
   "source": [
    "# lets check the change\n",
    "df[['AVERAGE_ACCT_AGE','CREDIT_HISTORY_LENGTH']].head()"
   ]
  },
  {
   "cell_type": "markdown",
   "id": "79602eab",
   "metadata": {},
   "source": [
    "## Feature Selection"
   ]
  },
  {
   "cell_type": "code",
   "execution_count": 195,
   "id": "55461d95",
   "metadata": {},
   "outputs": [
    {
     "name": "stdout",
     "output_type": "stream",
     "text": [
      "p value of is disbursed_amount is 8.74561717585509e-309\n",
      "p value of is asset_cost is 5.716223071536896e-12\n",
      "p value of is ltv is 0.0\n",
      "p value of is PERFORM_CNS_SCORE is 1.869421119257312e-172\n",
      "p value of is PRI_NO_OF_ACCTS is 9.576575137572993e-66\n",
      "p value of is PRI_ACTIVE_ACCTS is 3.448627479875517e-89\n",
      "p value of is PRI_OVERDUE_ACCTS is 9.138488408377107e-87\n",
      "p value of is PRI_CURRENT_BALANCE is 6.221337646272035e-40\n",
      "p value of is PRI_SANCTIONED_AMOUNT is 4.798158421546997e-08\n",
      "p value of is PRI_DISBURSED_AMOUNT is 7.176942237800462e-08\n",
      "p value of is SEC_NO_OF_ACCTS is 5.1490255376949666e-05\n",
      "p value of is SEC_ACTIVE_ACCTS is 0.003805646152419518\n",
      "p value of is SEC_OVERDUE_ACCTS is 0.5081054926877384\n",
      "p value of is SEC_CURRENT_BALANCE is 0.0075643427363124875\n",
      "p value of is SEC_SANCTIONED_AMOUNT is 0.002153062273491789\n",
      "p value of is SEC_DISBURSED_AMOUNT is 0.0025523226185338705\n",
      "p value of is PRIMARY_INSTAL_AMT is 2.958254960232989e-07\n",
      "p value of is SEC_INSTAL_AMT is 0.4546434321302706\n",
      "p value of is NEW_ACCTS_IN_LAST_SIX_MONTHS is 9.30229371021266e-46\n",
      "p value of is DELINQUENT_ACCTS_IN_LAST_SIX_MONTHS is 3.2892517686894386e-62\n",
      "p value of is AVERAGE_ACCT_AGE is 5.261091482095756e-33\n",
      "p value of is CREDIT_HISTORY_LENGTH is 4.6500173864982836e-92\n",
      "p value of is NO_OF_INQUIRIES is 7.912566786376203e-99\n"
     ]
    }
   ],
   "source": [
    "# Lets check numerical variable with t unpaired test\n",
    "nume = df.select_dtypes(np.number).columns\n",
    "pvalue = []\n",
    "df1 = df[df['loan_default'] == 0]\n",
    "df2 = df[df['loan_default'] == 1]\n",
    "\n",
    "for i in nume:\n",
    "    t_stat, p_value = sts.ttest_ind(df1[i], df2[i])\n",
    "    pvalue.append(p_value)\n",
    "    print('p value of is {} is {}'.format(i,p_value))"
   ]
  },
  {
   "cell_type": "code",
   "execution_count": 190,
   "id": "d561ddc6",
   "metadata": {},
   "outputs": [
    {
     "data": {
      "image/png": "[encoded data removed]",
      "text/plain": [
       "<Figure size 720x360 with 1 Axes>"
      ]
     },
     "metadata": {
      "needs_background": "light"
     },
     "output_type": "display_data"
    }
   ],
   "source": [
    "# Lets plot p value of numerical columns\n",
    "sns.barplot(y = nume, x = pvalue)\n",
    "plt.axvline(0.05, c = 'r')\n",
    "plt.xlabel('P Values', fontsize = 15)\n",
    "plt.text(x = 0.05,y = 7, s='<-- Level of significance - 0.05' )\n",
    "plt.show()"
   ]
  },
  {
   "cell_type": "raw",
   "id": "c7dea64e",
   "metadata": {},
   "source": [
    "# Here we can see that Sec_overdue_accts and sec_install_amt are insignificant\n",
    "# Lets check by SelectKBest library to narrow down choices of features. This will make use of Annova test."
   ]
  },
  {
   "cell_type": "code",
   "execution_count": 191,
   "id": "23611379",
   "metadata": {},
   "outputs": [
    {
     "data": {
      "image/png": "[encoded data removed]",
      "text/plain": [
       "<Figure size 504x504 with 1 Axes>"
      ]
     },
     "metadata": {
      "needs_background": "light"
     },
     "output_type": "display_data"
    }
   ],
   "source": [
    "from sklearn.feature_selection import SelectKBest, f_classif\n",
    "\n",
    "# Lets fit the SelectKbest with f_Annava has its function\n",
    "n = SelectKBest(score_func=f_classif, k=10)\n",
    "numcols=n.fit(df[nume],df['loan_default'])\n",
    "\n",
    "# Saving in dataframe\n",
    "kbest = pd.DataFrame(numcols.scores_, columns=['Score'], index= nume)\n",
    "\n",
    "# Sorting in descending order\n",
    "kbest = kbest.sort_values('Score', ascending = False)\n",
    "\n",
    "#lets plot\n",
    "plt.figure(figsize=(7,7))\n",
    "sns.barplot(x=kbest['Score'], y = kbest.index)\n",
    "plt.title('Best Numerical Features')\n",
    "plt.show()"
   ]
  },
  {
   "cell_type": "raw",
   "id": "16f78732",
   "metadata": {},
   "source": [
    "# Its shows that secondary accounts information are insignificant\n",
    "# But we cant remove becouse bank requires information of secondary account as well \n",
    "# so we can add primary and secondary accounts"
   ]
  },
  {
   "cell_type": "code",
   "execution_count": 192,
   "id": "63f4b915",
   "metadata": {},
   "outputs": [
    {
     "data": {
      "image/png": "[encoded data removed]",
      "text/plain": [
       "<Figure size 504x504 with 1 Axes>"
      ]
     },
     "metadata": {
      "needs_background": "light"
     },
     "output_type": "display_data"
    }
   ],
   "source": [
    "#Chi Square test for Categorical Columns\n",
    "l=[]\n",
    "\n",
    "cate = df.select_dtypes('object').columns\n",
    "for i in cate:\n",
    "    pvalue  = sts.chi2_contingency(pd.crosstab(df['loan_default'],df[i]))[1]\n",
    "    l.append(pvalue)\n",
    "\n",
    "# Lets Plot p value of categoricaL columns\n",
    "plt.figure(figsize=(7,7))\n",
    "sns.barplot(x=l, y=cate)\n",
    "plt.title('Best Categorical Features')\n",
    "plt.axvline(x = (0.05), color='r')\n",
    "plt.text(x = 0.05, y = 2, s = '<--Level of SigniFicance - 0.05')\n",
    "plt.show()"
   ]
  },
  {
   "cell_type": "code",
   "execution_count": 193,
   "id": "28c5215b",
   "metadata": {},
   "outputs": [
    {
     "name": "stdout",
     "output_type": "stream",
     "text": [
      "p value of is manufacturer_id is 1.5277380091688753e-93\n",
      "p value of is Employment_Type is 3.1225422343284505e-42\n",
      "p value of is Aadhar_flag is 1.1791998402218374e-89\n",
      "p value of is PAN_flag is 0.3277743362589148\n",
      "p value of is VoterID_flag is 5.603683381655361e-99\n",
      "p value of is Driving_flag is 0.0052012912081583085\n",
      "p value of is Passport_flag is 0.0002987981770071958\n",
      "p value of is PERFORM_CNS_SCORE_DESCRIPTION is 0.0\n",
      "p value of is loan_default is 0.0\n"
     ]
    }
   ],
   "source": [
    "cat=df.select_dtypes('object')\n",
    "from scipy.stats import chi2_contingency\n",
    "for i in cat.columns:\n",
    "    print('p value of is {} is {}'.format(i,chi2_contingency(pd.crosstab(df['loan_default'],df[i]))[1]))"
   ]
  },
  {
   "cell_type": "raw",
   "id": "0c8a3525",
   "metadata": {},
   "source": [
    "# It shows only PAN card is insignificant but for csn score need of PAN card is reqiured so we are not droping it\n",
    "# We can combined all the document to no of documents submitted"
   ]
  },
  {
   "cell_type": "markdown",
   "id": "a7dfafdb",
   "metadata": {},
   "source": [
    "## Feature Extraction"
   ]
  },
  {
   "cell_type": "code",
   "execution_count": 29,
   "id": "576e007a",
   "metadata": {},
   "outputs": [],
   "source": [
    "# Combing both primary accounts and secondary accounts info \n",
    "df['Total_NO_OF_ACCTS']  = df['PRI_NO_OF_ACCTS'] + df['SEC_NO_OF_ACCTS']\n",
    "df['Total_ACTIVE_ACCTS'] = df['PRI_ACTIVE_ACCTS'] + df['SEC_ACTIVE_ACCTS']\n",
    "df['Total_OVERDUE_ACCTS'] = df['PRI_OVERDUE_ACCTS'] + df['SEC_OVERDUE_ACCTS']\n",
    "df['Total_CURRENT_BALANCE'] = df['PRI_CURRENT_BALANCE'] + df['SEC_CURRENT_BALANCE']\n",
    "df['Total_SANCTIONED_AMOUNT'] = df['PRI_SANCTIONED_AMOUNT'] + df['SEC_SANCTIONED_AMOUNT']\n",
    "df['Total_DISBURSED_AMOUNT'] = df['PRI_DISBURSED_AMOUNT'] + df['SEC_DISBURSED_AMOUNT']\n",
    "df['Total_INSTAL_AMT'] = df['PRIMARY_INSTAL_AMT'] + df['SEC_INSTAL_AMT']"
   ]
  },
  {
   "cell_type": "code",
   "execution_count": 30,
   "id": "85eb5b6c",
   "metadata": {},
   "outputs": [],
   "source": [
    "# Lets drop rest of them\n",
    "df.drop(['PRI_NO_OF_ACCTS','PRI_ACTIVE_ACCTS', 'PRI_OVERDUE_ACCTS', 'PRI_CURRENT_BALANCE','PRI_SANCTIONED_AMOUNT',\n",
    "              'PRI_DISBURSED_AMOUNT', 'SEC_NO_OF_ACCTS','SEC_ACTIVE_ACCTS', 'SEC_OVERDUE_ACCTS', 'SEC_CURRENT_BALANCE',\n",
    "              'SEC_SANCTIONED_AMOUNT', 'SEC_DISBURSED_AMOUNT', 'PRIMARY_INSTAL_AMT','SEC_INSTAL_AMT'], axis = 1, inplace=True)"
   ]
  },
  {
   "cell_type": "code",
   "execution_count": 31,
   "id": "64734e57",
   "metadata": {},
   "outputs": [],
   "source": [
    "df['No_of_documents'] = df['Aadhar_flag'] + df['PAN_flag'] + df['VoterID_flag'] + df['Driving_flag'] + df['Passport_flag']"
   ]
  },
  {
   "cell_type": "code",
   "execution_count": 32,
   "id": "c14bca9a",
   "metadata": {},
   "outputs": [],
   "source": [
    "# lets drop all of them\n",
    "df.drop(['Aadhar_flag', 'PAN_flag', 'VoterID_flag', 'Driving_flag', 'Passport_flag'], axis = 1, inplace=True)"
   ]
  },
  {
   "cell_type": "code",
   "execution_count": 33,
   "id": "14364ed7",
   "metadata": {},
   "outputs": [],
   "source": [
    "# We can get age of customer by date of birth and disbursal date\n",
    "# Wrong tranformation of date... lets make it correct\n",
    "dob = []\n",
    "for i in df['Date_of_Birth']:\n",
    "    if i.year > 2018:\n",
    "        j = i.replace(year=i.year-100)\n",
    "        dob.append(j)\n",
    "    else:\n",
    "        dob.append(i)\n",
    "df['Date_of_Birth'] = dob"
   ]
  },
  {
   "cell_type": "code",
   "execution_count": 34,
   "id": "6eafe388",
   "metadata": {},
   "outputs": [
    {
     "data": {
      "text/plain": [
       "0    34\n",
       "1    33\n",
       "2    33\n",
       "3    25\n",
       "4    41\n",
       "Name: Age, dtype: int64"
      ]
     },
     "execution_count": 34,
     "metadata": {},
     "output_type": "execute_result"
    }
   ],
   "source": [
    "df['Age'] = df['DisbursalDate'].dt.year - df['Date_of_Birth'].dt.year \n",
    "df['Age'].head()"
   ]
  },
  {
   "cell_type": "code",
   "execution_count": 35,
   "id": "d4f386d5",
   "metadata": {},
   "outputs": [
    {
     "data": {
      "image/png": "[encoded data removed]",
      "text/plain": [
       "<Figure size 720x360 with 1 Axes>"
      ]
     },
     "metadata": {
      "needs_background": "light"
     },
     "output_type": "display_data"
    }
   ],
   "source": [
    "sns.histplot(df['Age'],kde = True )\n",
    "plt.show()"
   ]
  },
  {
   "cell_type": "raw",
   "id": "0c7ebfe3",
   "metadata": {},
   "source": [
    "# Most of Customer from age 20 to 30 so data is correct\n",
    "# Age right skewed "
   ]
  },
  {
   "cell_type": "code",
   "execution_count": 36,
   "id": "7e3d7ae0",
   "metadata": {},
   "outputs": [
    {
     "name": "stdout",
     "output_type": "stream",
     "text": [
      "P value 1.6119724395993934e-72\n",
      "Pvalue less than 0.05:  True\n"
     ]
    }
   ],
   "source": [
    "df1 = df[df['loan_default'] == 0]\n",
    "df2 = df[df['loan_default'] == 1]\n",
    "\n",
    "t_stat, p_value = sts.ttest_ind(df1['Age'], df2['Age'])\n",
    "print('P value', p_value)\n",
    "print('Pvalue less than 0.05: ', p_value < 0.05)"
   ]
  },
  {
   "cell_type": "raw",
   "id": "70b3f31b",
   "metadata": {},
   "source": [
    "# Hence reject null hypothesis \n",
    "# Age columns has same impcat on defaulter and non defaulter"
   ]
  },
  {
   "cell_type": "code",
   "execution_count": 37,
   "id": "1ec6afe9",
   "metadata": {},
   "outputs": [],
   "source": [
    "# Lets drop both date columns \n",
    "df.drop(['Date_of_Birth','DisbursalDate'], axis = 1, inplace=True)"
   ]
  },
  {
   "cell_type": "markdown",
   "id": "1c78e81b",
   "metadata": {},
   "source": [
    "## Feature Engineering"
   ]
  },
  {
   "cell_type": "code",
   "execution_count": 38,
   "id": "06bb73ba",
   "metadata": {},
   "outputs": [
    {
     "data": {
      "text/plain": [
       "PERFORM_CNS_SCORE_DESCRIPTION\n",
       "A-Very Low Risk                                            890\n",
       "B-Very Low Risk                                            805\n",
       "C-Very Low Risk                                            760\n",
       "D-Very Low Risk                                            735\n",
       "E-Low Risk                                                 705\n",
       "F-Low Risk                                                 680\n",
       "G-Low Risk                                                 650\n",
       "H-Medium Risk                                              630\n",
       "I-Medium Risk                                              600\n",
       "J-High Risk                                                570\n",
       "K-High Risk                                                520\n",
       "L-Very High Risk                                           350\n",
       "M-Very High Risk                                           300\n",
       "No Bureau History Available                                  0\n",
       "Not Scored: More than 50 active Accounts found              11\n",
       "Not Scored: No Activity seen on the customer (Inactive)     16\n",
       "Not Scored: No Updates available in last 36 months          18\n",
       "Not Scored: Not Enough Info available on the customer       17\n",
       "Not Scored: Only a Guarantor                                14\n",
       "Not Scored: Sufficient History Not Available                15\n",
       "Name: PERFORM_CNS_SCORE, dtype: int64"
      ]
     },
     "execution_count": 38,
     "metadata": {},
     "output_type": "execute_result"
    }
   ],
   "source": [
    "df.groupby('PERFORM_CNS_SCORE_DESCRIPTION')['PERFORM_CNS_SCORE'].max()"
   ]
  },
  {
   "cell_type": "code",
   "execution_count": 39,
   "id": "0f920c65",
   "metadata": {},
   "outputs": [],
   "source": [
    "# Lets bin CNS_SCORE_DESCRIPTION \n",
    "Low = ['A-Very Low Risk','B-Very Low Risk','C-Very Low Risk','D-Very Low Risk','E-Low Risk','F-Low Risk','G-Low Risk']\n",
    "High = ['J-High Risk','K-High Risk','L-Very High Risk','M-Very High Risk']\n",
    "Medium = ['H-Medium Risk','I-Medium Risk']\n",
    "\n",
    "# defining Function\n",
    "def des_cate(x):\n",
    "    if x in Low:\n",
    "        return 3\n",
    "    elif x in Medium:\n",
    "        return 2\n",
    "    elif x in High:\n",
    "        return 1\n",
    "    else:\n",
    "        return 0\n",
    "    \n",
    "# lets make cate\n",
    "df['CNS_SCORE_DESCRIPTION'] = df['PERFORM_CNS_SCORE_DESCRIPTION'].apply(des_cate)"
   ]
  },
  {
   "cell_type": "code",
   "execution_count": 40,
   "id": "bd3e4bbd",
   "metadata": {},
   "outputs": [
    {
     "data": {
      "image/png": "[encoded data removed]",
      "text/plain": [
       "<Figure size 720x360 with 1 Axes>"
      ]
     },
     "metadata": {
      "needs_background": "light"
     },
     "output_type": "display_data"
    }
   ],
   "source": [
    "sns.countplot(df['CNS_SCORE_DESCRIPTION'], palette = ['r', 'b', 'y', 'g'])\n",
    "plt.legend(labels = ['Not scored', 'High Risk', 'Medium Risk', 'Low Risk'])\n",
    "plt.show()"
   ]
  },
  {
   "cell_type": "raw",
   "id": "61885975",
   "metadata": {},
   "source": [
    "# We can see that we have more data of not scored people"
   ]
  },
  {
   "cell_type": "code",
   "execution_count": 41,
   "id": "d7230a75",
   "metadata": {},
   "outputs": [
    {
     "name": "stdout",
     "output_type": "stream",
     "text": [
      "P value 0.0\n",
      "Pvalue less than 0.05:  True\n"
     ]
    }
   ],
   "source": [
    "# Lets Perform chi2_contingency to check wheather is there any impact on target variable\n",
    "table = pd.crosstab(df['CNS_SCORE_DESCRIPTION'], df['loan_default']).values\n",
    "print('P value', sts.chi2_contingency(table)[1])\n",
    "print('Pvalue less than 0.05: ', sts.chi2_contingency(table)[1] < 0.05)"
   ]
  },
  {
   "cell_type": "raw",
   "id": "8f8d52c6",
   "metadata": {},
   "source": [
    "As pvalue is less than 0.05 so reject null hypothesis\n",
    "We can see that CNS_SCORE_DESCRIPTION is significant column which has impact on target variable"
   ]
  },
  {
   "cell_type": "code",
   "execution_count": 42,
   "id": "e0d17622",
   "metadata": {},
   "outputs": [],
   "source": [
    "# lets drop PERFORM_CNS_SCORE_DESCRIPTION becouse we have new column now\n",
    "del df['PERFORM_CNS_SCORE_DESCRIPTION']"
   ]
  },
  {
   "cell_type": "markdown",
   "id": "2b51f184",
   "metadata": {},
   "source": [
    "## Feature Analysis"
   ]
  },
  {
   "cell_type": "code",
   "execution_count": 43,
   "id": "583a2c01",
   "metadata": {},
   "outputs": [
    {
     "name": "stdout",
     "output_type": "stream",
     "text": [
      "<class 'pandas.core.frame.DataFrame'>\n",
      "RangeIndex: 233154 entries, 0 to 233153\n",
      "Data columns (total 22 columns):\n",
      " #   Column                               Non-Null Count   Dtype  \n",
      "---  ------                               --------------   -----  \n",
      " 0   disbursed_amount                     233154 non-null  int64  \n",
      " 1   asset_cost                           233154 non-null  int64  \n",
      " 2   ltv                                  233154 non-null  float64\n",
      " 3   manufacturer_id                      233154 non-null  object \n",
      " 4   Employment_Type                      233154 non-null  object \n",
      " 5   PERFORM_CNS_SCORE                    233154 non-null  int64  \n",
      " 6   NEW_ACCTS_IN_LAST_SIX_MONTHS         233154 non-null  int64  \n",
      " 7   DELINQUENT_ACCTS_IN_LAST_SIX_MONTHS  233154 non-null  int64  \n",
      " 8   AVERAGE_ACCT_AGE                     233154 non-null  int64  \n",
      " 9   CREDIT_HISTORY_LENGTH                233154 non-null  int64  \n",
      " 10  NO_OF_INQUIRIES                      233154 non-null  int64  \n",
      " 11  loan_default                         233154 non-null  object \n",
      " 12  Total_NO_OF_ACCTS                    233154 non-null  int64  \n",
      " 13  Total_ACTIVE_ACCTS                   233154 non-null  int64  \n",
      " 14  Total_OVERDUE_ACCTS                  233154 non-null  int64  \n",
      " 15  Total_CURRENT_BALANCE                233154 non-null  int64  \n",
      " 16  Total_SANCTIONED_AMOUNT              233154 non-null  int64  \n",
      " 17  Total_DISBURSED_AMOUNT               233154 non-null  int64  \n",
      " 18  Total_INSTAL_AMT                     233154 non-null  int64  \n",
      " 19  No_of_documents                      233154 non-null  object \n",
      " 20  Age                                  233154 non-null  int64  \n",
      " 21  CNS_SCORE_DESCRIPTION                233154 non-null  int64  \n",
      "dtypes: float64(1), int64(17), object(4)\n",
      "memory usage: 39.1+ MB\n"
     ]
    }
   ],
   "source": [
    "df.info()"
   ]
  },
  {
   "cell_type": "markdown",
   "id": "c48b6769",
   "metadata": {},
   "source": [
    "### Dependent/Target variable"
   ]
  },
  {
   "cell_type": "code",
   "execution_count": 44,
   "id": "a1e9d4f3",
   "metadata": {},
   "outputs": [
    {
     "data": {
      "text/plain": [
       "0    78.292888\n",
       "1    21.707112\n",
       "Name: loan_default, dtype: float64"
      ]
     },
     "execution_count": 44,
     "metadata": {},
     "output_type": "execute_result"
    }
   ],
   "source": [
    "df.loan_default.value_counts(normalize=True)*100"
   ]
  },
  {
   "cell_type": "code",
   "execution_count": 45,
   "id": "a7b9c98c",
   "metadata": {},
   "outputs": [
    {
     "data": {
      "image/png": "[encoded data removed]",
      "text/plain": [
       "<Figure size 720x360 with 1 Axes>"
      ]
     },
     "metadata": {},
     "output_type": "display_data"
    }
   ],
   "source": [
    "plt.pie(df.loan_default.value_counts(normalize=True)*100, labels=['Non-Defaulter','Defaulter'], explode=[0.1,0],autopct='%.2f')\n",
    "plt.legend()\n",
    "plt.show()"
   ]
  },
  {
   "cell_type": "markdown",
   "id": "b12266d7",
   "metadata": {},
   "source": [
    "- The data for target variable is highly imbalanced we need to balance if required."
   ]
  },
  {
   "cell_type": "markdown",
   "id": "91160798",
   "metadata": {},
   "source": [
    "### Independent variables"
   ]
  },
  {
   "cell_type": "code",
   "execution_count": 46,
   "id": "b92cf1b5",
   "metadata": {
    "scrolled": true
   },
   "outputs": [
    {
     "data": {
      "text/plain": [
       "(4, 17)"
      ]
     },
     "execution_count": 46,
     "metadata": {},
     "output_type": "execute_result"
    }
   ],
   "source": [
    "# firstly separate the numerical and categorical variable\n",
    "\n",
    "cate = ['manufacturer_id', 'Employment_Type','No_of_documents','CNS_SCORE_DESCRIPTION']\n",
    "\n",
    "nume = [i for i in df.columns if i not in cate and i != 'loan_default']\n",
    "\n",
    "len(cate), len(nume)"
   ]
  },
  {
   "cell_type": "code",
   "execution_count": 47,
   "id": "566e268f",
   "metadata": {},
   "outputs": [
    {
     "data": {
      "image/png": "[encoded data removed]",
      "text/plain": [
       "<Figure size 720x360 with 4 Axes>"
      ]
     },
     "metadata": {
      "needs_background": "light"
     },
     "output_type": "display_data"
    }
   ],
   "source": [
    "# we will not consider the birth date , disbursal date here as we need to perform further operations on it\n",
    "c = 1\n",
    "for i in cate:\n",
    "    plt.subplot(2,2,c)\n",
    "    sns.countplot(df.loc[:,i])\n",
    "    plt.xlabel(i)\n",
    "    c = c + 1\n",
    "    \n",
    "plt.tight_layout()\n",
    "plt.show()"
   ]
  },
  {
   "cell_type": "markdown",
   "id": "01ff6497",
   "metadata": {},
   "source": [
    "#### Inference\n",
    "* Manufacturing Id 86 has highest frequency in the data\n",
    "* The count of self employed people is more than that of salarized people\n",
    "* Most people have submitted only one documents\n",
    "* Not scored customers are more"
   ]
  },
  {
   "cell_type": "code",
   "execution_count": 48,
   "id": "989bbd84",
   "metadata": {},
   "outputs": [
    {
     "data": {
      "image/png": "[encoded data removed]",
      "text/plain": [
       "<Figure size 1080x1080 with 17 Axes>"
      ]
     },
     "metadata": {
      "needs_background": "light"
     },
     "output_type": "display_data"
    }
   ],
   "source": [
    "# For Numerical\n",
    "plt.figure(figsize=[15,15])\n",
    "c = 1\n",
    "for i in nume:\n",
    "    plt.subplot(6,3,c)\n",
    "    sns.boxplot(y=df.loc[:,i] , x=df.loan_default)\n",
    "    c = c+1\n",
    "    \n",
    "plt.tight_layout()\n",
    "plt.show()"
   ]
  },
  {
   "cell_type": "markdown",
   "id": "6824fc18",
   "metadata": {},
   "source": [
    "#### Inference\n",
    "* For disbursed amount and for asset cost people are defaulting for lower values\n",
    "* Loan to value ratio for defaulter is higher than non defaulters\n",
    "* cns score of defaulter people is lover than that of the non defaulters\n",
    "* There are outlier present in the data "
   ]
  },
  {
   "cell_type": "markdown",
   "id": "1fe403ee",
   "metadata": {},
   "source": [
    "## Heatmap"
   ]
  },
  {
   "cell_type": "code",
   "execution_count": 49,
   "id": "956fbca0",
   "metadata": {},
   "outputs": [
    {
     "data": {
      "image/png": "[encoded data removed]",
      "text/plain": [
       "<Figure size 1800x1080 with 2 Axes>"
      ]
     },
     "metadata": {
      "needs_background": "light"
     },
     "output_type": "display_data"
    }
   ],
   "source": [
    "plt.figure(figsize=(25,15))\n",
    "sns.heatmap(df.corr()[abs(df.corr()) >= 0.75],annot=True,cmap = 'YlGnBu')\n",
    "plt.show()"
   ]
  },
  {
   "cell_type": "markdown",
   "id": "3b58549a",
   "metadata": {},
   "source": [
    "**From the above correlation heatmap, we can see that some of the features are highly correlated(>0.75) with each other.**\n",
    "#### Inference\n",
    "- disbursed amount and asset cost - 0.75\n",
    "- average_acct_age and credit_history_length - 0.83\n",
    "- no_of_accts and active_accts - 0.76\n",
    "- Total_sanctioned_amount and total_disbursed_amount - 1 \n",
    "- Csn descripltion and csn score - 0.98\n",
    "- we will will keep one of them\n"
   ]
  },
  {
   "cell_type": "code",
   "execution_count": 50,
   "id": "8e2ad952",
   "metadata": {},
   "outputs": [
    {
     "data": {
      "text/plain": [
       "(233154, 22)"
      ]
     },
     "execution_count": 50,
     "metadata": {},
     "output_type": "execute_result"
    }
   ],
   "source": [
    "df.shape"
   ]
  },
  {
   "cell_type": "code",
   "execution_count": 51,
   "id": "254dda83",
   "metadata": {},
   "outputs": [],
   "source": [
    "# We only droping sanctioned_amount right now as it 100 % correlated\n",
    "df.drop(['asset_cost', 'AVERAGE_ACCT_AGE', 'PERFORM_CNS_SCORE','Total_ACTIVE_ACCTS', 'Total_SANCTIONED_AMOUNT'], axis = 1, inplace=True)"
   ]
  },
  {
   "cell_type": "code",
   "execution_count": 52,
   "id": "cf4b87e6",
   "metadata": {},
   "outputs": [
    {
     "data": {
      "text/plain": [
       "(233154, 17)"
      ]
     },
     "execution_count": 52,
     "metadata": {},
     "output_type": "execute_result"
    }
   ],
   "source": [
    "df.shape"
   ]
  },
  {
   "cell_type": "code",
   "execution_count": 53,
   "id": "63777850",
   "metadata": {},
   "outputs": [
    {
     "data": {
      "text/plain": [
       "86     109534\n",
       "45      56626\n",
       "51      27204\n",
       "48      16710\n",
       "49      10220\n",
       "120      9658\n",
       "67       2405\n",
       "145       778\n",
       "153        12\n",
       "152         6\n",
       "156         1\n",
       "Name: manufacturer_id, dtype: int64"
      ]
     },
     "execution_count": 53,
     "metadata": {},
     "output_type": "execute_result"
    }
   ],
   "source": [
    "df['manufacturer_id'].value_counts()"
   ]
  },
  {
   "cell_type": "code",
   "execution_count": 54,
   "id": "a2fe09e3",
   "metadata": {},
   "outputs": [
    {
     "data": {
      "text/plain": [
       "0.469792    109534\n",
       "0.242870     56626\n",
       "0.116678     27204\n",
       "0.071669     16710\n",
       "0.043834     10220\n",
       "0.041423      9658\n",
       "0.010315      2405\n",
       "0.003337       778\n",
       "0.000051        12\n",
       "0.000026         6\n",
       "0.000004         1\n",
       "Name: manufacturer_id, dtype: int64"
      ]
     },
     "execution_count": 54,
     "metadata": {},
     "output_type": "execute_result"
    }
   ],
   "source": [
    "# Lets use frequency encoding for manufacturing id\n",
    "freq = (df['manufacturer_id'].value_counts()/len(df)).to_dict()\n",
    "df['manufacturer_id'] = df['manufacturer_id'].map(freq)\n",
    "df['manufacturer_id'].value_counts()"
   ]
  },
  {
   "cell_type": "code",
   "execution_count": 55,
   "id": "e689ed98",
   "metadata": {},
   "outputs": [
    {
     "data": {
      "text/html": [
       "<div>\n",
       "<style scoped>\n",
       "    .dataframe tbody tr th:only-of-type {\n",
       "        vertical-align: middle;\n",
       "    }\n",
       "\n",
       "    .dataframe tbody tr th {\n",
       "        vertical-align: top;\n",
       "    }\n",
       "\n",
       "    .dataframe thead th {\n",
       "        text-align: right;\n",
       "    }\n",
       "</style>\n",
       "<table border=\"1\" class=\"dataframe\">\n",
       "  <thead>\n",
       "    <tr style=\"text-align: right;\">\n",
       "      <th></th>\n",
       "      <th>disbursed_amount</th>\n",
       "      <th>ltv</th>\n",
       "      <th>NEW_ACCTS_IN_LAST_SIX_MONTHS</th>\n",
       "      <th>DELINQUENT_ACCTS_IN_LAST_SIX_MONTHS</th>\n",
       "      <th>CREDIT_HISTORY_LENGTH</th>\n",
       "      <th>NO_OF_INQUIRIES</th>\n",
       "      <th>Total_NO_OF_ACCTS</th>\n",
       "      <th>Total_OVERDUE_ACCTS</th>\n",
       "      <th>Total_CURRENT_BALANCE</th>\n",
       "      <th>Total_DISBURSED_AMOUNT</th>\n",
       "      <th>Total_INSTAL_AMT</th>\n",
       "      <th>Age</th>\n",
       "    </tr>\n",
       "  </thead>\n",
       "  <tbody>\n",
       "    <tr>\n",
       "      <th>0</th>\n",
       "      <td>-0.243066</td>\n",
       "      <td>0.862069</td>\n",
       "      <td>0.0</td>\n",
       "      <td>0.0</td>\n",
       "      <td>0.000000</td>\n",
       "      <td>0.0</td>\n",
       "      <td>-0.333333</td>\n",
       "      <td>0.0</td>\n",
       "      <td>0.000000</td>\n",
       "      <td>0.00000</td>\n",
       "      <td>0.000000</td>\n",
       "      <td>0.133333</td>\n",
       "    </tr>\n",
       "    <tr>\n",
       "      <th>1</th>\n",
       "      <td>-0.501809</td>\n",
       "      <td>-0.241379</td>\n",
       "      <td>0.0</td>\n",
       "      <td>1.0</td>\n",
       "      <td>0.958333</td>\n",
       "      <td>0.0</td>\n",
       "      <td>0.000000</td>\n",
       "      <td>1.0</td>\n",
       "      <td>0.739233</td>\n",
       "      <td>0.78091</td>\n",
       "      <td>0.955833</td>\n",
       "      <td>0.066667</td>\n",
       "    </tr>\n",
       "    <tr>\n",
       "      <th>2</th>\n",
       "      <td>-0.039569</td>\n",
       "      <td>0.867478</td>\n",
       "      <td>0.0</td>\n",
       "      <td>0.0</td>\n",
       "      <td>0.000000</td>\n",
       "      <td>0.0</td>\n",
       "      <td>-0.333333</td>\n",
       "      <td>0.0</td>\n",
       "      <td>0.000000</td>\n",
       "      <td>0.00000</td>\n",
       "      <td>0.000000</td>\n",
       "      <td>0.066667</td>\n",
       "    </tr>\n",
       "    <tr>\n",
       "      <th>3</th>\n",
       "      <td>0.279620</td>\n",
       "      <td>0.789723</td>\n",
       "      <td>0.0</td>\n",
       "      <td>0.0</td>\n",
       "      <td>0.625000</td>\n",
       "      <td>1.0</td>\n",
       "      <td>0.666667</td>\n",
       "      <td>0.0</td>\n",
       "      <td>0.000000</td>\n",
       "      <td>0.00000</td>\n",
       "      <td>0.014882</td>\n",
       "      <td>-0.466667</td>\n",
       "    </tr>\n",
       "    <tr>\n",
       "      <th>4</th>\n",
       "      <td>-0.107401</td>\n",
       "      <td>0.783638</td>\n",
       "      <td>0.0</td>\n",
       "      <td>0.0</td>\n",
       "      <td>0.000000</td>\n",
       "      <td>1.0</td>\n",
       "      <td>-0.333333</td>\n",
       "      <td>0.0</td>\n",
       "      <td>0.000000</td>\n",
       "      <td>0.00000</td>\n",
       "      <td>0.000000</td>\n",
       "      <td>0.600000</td>\n",
       "    </tr>\n",
       "  </tbody>\n",
       "</table>\n",
       "</div>"
      ],
      "text/plain": [
       "   disbursed_amount       ltv  NEW_ACCTS_IN_LAST_SIX_MONTHS  \\\n",
       "0         -0.243066  0.862069                           0.0   \n",
       "1         -0.501809 -0.241379                           0.0   \n",
       "2         -0.039569  0.867478                           0.0   \n",
       "3          0.279620  0.789723                           0.0   \n",
       "4         -0.107401  0.783638                           0.0   \n",
       "\n",
       "   DELINQUENT_ACCTS_IN_LAST_SIX_MONTHS  CREDIT_HISTORY_LENGTH  \\\n",
       "0                                  0.0               0.000000   \n",
       "1                                  1.0               0.958333   \n",
       "2                                  0.0               0.000000   \n",
       "3                                  0.0               0.625000   \n",
       "4                                  0.0               0.000000   \n",
       "\n",
       "   NO_OF_INQUIRIES  Total_NO_OF_ACCTS  Total_OVERDUE_ACCTS  \\\n",
       "0              0.0          -0.333333                  0.0   \n",
       "1              0.0           0.000000                  1.0   \n",
       "2              0.0          -0.333333                  0.0   \n",
       "3              1.0           0.666667                  0.0   \n",
       "4              1.0          -0.333333                  0.0   \n",
       "\n",
       "   Total_CURRENT_BALANCE  Total_DISBURSED_AMOUNT  Total_INSTAL_AMT       Age  \n",
       "0               0.000000                 0.00000          0.000000  0.133333  \n",
       "1               0.739233                 0.78091          0.955833  0.066667  \n",
       "2               0.000000                 0.00000          0.000000  0.066667  \n",
       "3               0.000000                 0.00000          0.014882 -0.466667  \n",
       "4               0.000000                 0.00000          0.000000  0.600000  "
      ]
     },
     "execution_count": 55,
     "metadata": {},
     "output_type": "execute_result"
    }
   ],
   "source": [
    "from sklearn.preprocessing import RobustScaler\n",
    "rs = RobustScaler()\n",
    "nume = [i for i in df.columns if i not in cate and i != 'loan_default']\n",
    "scaled = pd.DataFrame(rs.fit_transform(df[nume]), columns= nume)\n",
    "scaled.head()"
   ]
  },
  {
   "cell_type": "code",
   "execution_count": 56,
   "id": "616e348a",
   "metadata": {},
   "outputs": [
    {
     "data": {
      "text/html": [
       "<div>\n",
       "<style scoped>\n",
       "    .dataframe tbody tr th:only-of-type {\n",
       "        vertical-align: middle;\n",
       "    }\n",
       "\n",
       "    .dataframe tbody tr th {\n",
       "        vertical-align: top;\n",
       "    }\n",
       "\n",
       "    .dataframe thead th {\n",
       "        text-align: right;\n",
       "    }\n",
       "</style>\n",
       "<table border=\"1\" class=\"dataframe\">\n",
       "  <thead>\n",
       "    <tr style=\"text-align: right;\">\n",
       "      <th></th>\n",
       "      <th>manufacturer_id</th>\n",
       "      <th>No_of_documents</th>\n",
       "      <th>CNS_SCORE_DESCRIPTION</th>\n",
       "      <th>Employment_Type_Self employed</th>\n",
       "      <th>Employment_Type_UnEmployeed</th>\n",
       "    </tr>\n",
       "  </thead>\n",
       "  <tbody>\n",
       "    <tr>\n",
       "      <th>0</th>\n",
       "      <td>0.24287</td>\n",
       "      <td>1</td>\n",
       "      <td>0</td>\n",
       "      <td>0</td>\n",
       "      <td>0</td>\n",
       "    </tr>\n",
       "    <tr>\n",
       "      <th>1</th>\n",
       "      <td>0.24287</td>\n",
       "      <td>1</td>\n",
       "      <td>2</td>\n",
       "      <td>1</td>\n",
       "      <td>0</td>\n",
       "    </tr>\n",
       "    <tr>\n",
       "      <th>2</th>\n",
       "      <td>0.24287</td>\n",
       "      <td>1</td>\n",
       "      <td>0</td>\n",
       "      <td>1</td>\n",
       "      <td>0</td>\n",
       "    </tr>\n",
       "    <tr>\n",
       "      <th>3</th>\n",
       "      <td>0.24287</td>\n",
       "      <td>1</td>\n",
       "      <td>1</td>\n",
       "      <td>1</td>\n",
       "      <td>0</td>\n",
       "    </tr>\n",
       "    <tr>\n",
       "      <th>4</th>\n",
       "      <td>0.24287</td>\n",
       "      <td>1</td>\n",
       "      <td>0</td>\n",
       "      <td>1</td>\n",
       "      <td>0</td>\n",
       "    </tr>\n",
       "  </tbody>\n",
       "</table>\n",
       "</div>"
      ],
      "text/plain": [
       "   manufacturer_id No_of_documents  CNS_SCORE_DESCRIPTION  \\\n",
       "0          0.24287               1                      0   \n",
       "1          0.24287               1                      2   \n",
       "2          0.24287               1                      0   \n",
       "3          0.24287               1                      1   \n",
       "4          0.24287               1                      0   \n",
       "\n",
       "   Employment_Type_Self employed  Employment_Type_UnEmployeed  \n",
       "0                              0                            0  \n",
       "1                              1                            0  \n",
       "2                              1                            0  \n",
       "3                              1                            0  \n",
       "4                              1                            0  "
      ]
     },
     "execution_count": 56,
     "metadata": {},
     "output_type": "execute_result"
    }
   ],
   "source": [
    "dummy = pd.get_dummies(data = df[cate], columns=['Employment_Type'], drop_first=True)\n",
    "dummy.head()"
   ]
  },
  {
   "cell_type": "code",
   "execution_count": 57,
   "id": "9c20f9ac",
   "metadata": {},
   "outputs": [
    {
     "data": {
      "text/plain": [
       "(233154, 17)"
      ]
     },
     "execution_count": 57,
     "metadata": {},
     "output_type": "execute_result"
    }
   ],
   "source": [
    "df_full = pd.concat([scaled, dummy], axis = 1)\n",
    "df_full.shape"
   ]
  },
  {
   "cell_type": "code",
   "execution_count": 58,
   "id": "aff87d53",
   "metadata": {},
   "outputs": [
    {
     "data": {
      "text/html": [
       "<div>\n",
       "<style scoped>\n",
       "    .dataframe tbody tr th:only-of-type {\n",
       "        vertical-align: middle;\n",
       "    }\n",
       "\n",
       "    .dataframe tbody tr th {\n",
       "        vertical-align: top;\n",
       "    }\n",
       "\n",
       "    .dataframe thead th {\n",
       "        text-align: right;\n",
       "    }\n",
       "</style>\n",
       "<table border=\"1\" class=\"dataframe\">\n",
       "  <thead>\n",
       "    <tr style=\"text-align: right;\">\n",
       "      <th></th>\n",
       "      <th>disbursed_amount</th>\n",
       "      <th>ltv</th>\n",
       "      <th>NEW_ACCTS_IN_LAST_SIX_MONTHS</th>\n",
       "      <th>DELINQUENT_ACCTS_IN_LAST_SIX_MONTHS</th>\n",
       "      <th>CREDIT_HISTORY_LENGTH</th>\n",
       "      <th>NO_OF_INQUIRIES</th>\n",
       "      <th>Total_NO_OF_ACCTS</th>\n",
       "      <th>Total_OVERDUE_ACCTS</th>\n",
       "      <th>Total_CURRENT_BALANCE</th>\n",
       "      <th>Total_DISBURSED_AMOUNT</th>\n",
       "      <th>Total_INSTAL_AMT</th>\n",
       "      <th>Age</th>\n",
       "      <th>manufacturer_id</th>\n",
       "      <th>No_of_documents</th>\n",
       "      <th>CNS_SCORE_DESCRIPTION</th>\n",
       "      <th>Employment_Type_Self employed</th>\n",
       "      <th>Employment_Type_UnEmployeed</th>\n",
       "    </tr>\n",
       "  </thead>\n",
       "  <tbody>\n",
       "    <tr>\n",
       "      <th>0</th>\n",
       "      <td>-0.243066</td>\n",
       "      <td>0.862069</td>\n",
       "      <td>0.0</td>\n",
       "      <td>0.0</td>\n",
       "      <td>0.000000</td>\n",
       "      <td>0.0</td>\n",
       "      <td>-0.333333</td>\n",
       "      <td>0.0</td>\n",
       "      <td>0.000000</td>\n",
       "      <td>0.00000</td>\n",
       "      <td>0.000000</td>\n",
       "      <td>0.133333</td>\n",
       "      <td>0.24287</td>\n",
       "      <td>1</td>\n",
       "      <td>0</td>\n",
       "      <td>0</td>\n",
       "      <td>0</td>\n",
       "    </tr>\n",
       "    <tr>\n",
       "      <th>1</th>\n",
       "      <td>-0.501809</td>\n",
       "      <td>-0.241379</td>\n",
       "      <td>0.0</td>\n",
       "      <td>1.0</td>\n",
       "      <td>0.958333</td>\n",
       "      <td>0.0</td>\n",
       "      <td>0.000000</td>\n",
       "      <td>1.0</td>\n",
       "      <td>0.739233</td>\n",
       "      <td>0.78091</td>\n",
       "      <td>0.955833</td>\n",
       "      <td>0.066667</td>\n",
       "      <td>0.24287</td>\n",
       "      <td>1</td>\n",
       "      <td>2</td>\n",
       "      <td>1</td>\n",
       "      <td>0</td>\n",
       "    </tr>\n",
       "    <tr>\n",
       "      <th>2</th>\n",
       "      <td>-0.039569</td>\n",
       "      <td>0.867478</td>\n",
       "      <td>0.0</td>\n",
       "      <td>0.0</td>\n",
       "      <td>0.000000</td>\n",
       "      <td>0.0</td>\n",
       "      <td>-0.333333</td>\n",
       "      <td>0.0</td>\n",
       "      <td>0.000000</td>\n",
       "      <td>0.00000</td>\n",
       "      <td>0.000000</td>\n",
       "      <td>0.066667</td>\n",
       "      <td>0.24287</td>\n",
       "      <td>1</td>\n",
       "      <td>0</td>\n",
       "      <td>1</td>\n",
       "      <td>0</td>\n",
       "    </tr>\n",
       "    <tr>\n",
       "      <th>3</th>\n",
       "      <td>0.279620</td>\n",
       "      <td>0.789723</td>\n",
       "      <td>0.0</td>\n",
       "      <td>0.0</td>\n",
       "      <td>0.625000</td>\n",
       "      <td>1.0</td>\n",
       "      <td>0.666667</td>\n",
       "      <td>0.0</td>\n",
       "      <td>0.000000</td>\n",
       "      <td>0.00000</td>\n",
       "      <td>0.014882</td>\n",
       "      <td>-0.466667</td>\n",
       "      <td>0.24287</td>\n",
       "      <td>1</td>\n",
       "      <td>1</td>\n",
       "      <td>1</td>\n",
       "      <td>0</td>\n",
       "    </tr>\n",
       "    <tr>\n",
       "      <th>4</th>\n",
       "      <td>-0.107401</td>\n",
       "      <td>0.783638</td>\n",
       "      <td>0.0</td>\n",
       "      <td>0.0</td>\n",
       "      <td>0.000000</td>\n",
       "      <td>1.0</td>\n",
       "      <td>-0.333333</td>\n",
       "      <td>0.0</td>\n",
       "      <td>0.000000</td>\n",
       "      <td>0.00000</td>\n",
       "      <td>0.000000</td>\n",
       "      <td>0.600000</td>\n",
       "      <td>0.24287</td>\n",
       "      <td>1</td>\n",
       "      <td>0</td>\n",
       "      <td>1</td>\n",
       "      <td>0</td>\n",
       "    </tr>\n",
       "  </tbody>\n",
       "</table>\n",
       "</div>"
      ],
      "text/plain": [
       "   disbursed_amount       ltv  NEW_ACCTS_IN_LAST_SIX_MONTHS  \\\n",
       "0         -0.243066  0.862069                           0.0   \n",
       "1         -0.501809 -0.241379                           0.0   \n",
       "2         -0.039569  0.867478                           0.0   \n",
       "3          0.279620  0.789723                           0.0   \n",
       "4         -0.107401  0.783638                           0.0   \n",
       "\n",
       "   DELINQUENT_ACCTS_IN_LAST_SIX_MONTHS  CREDIT_HISTORY_LENGTH  \\\n",
       "0                                  0.0               0.000000   \n",
       "1                                  1.0               0.958333   \n",
       "2                                  0.0               0.000000   \n",
       "3                                  0.0               0.625000   \n",
       "4                                  0.0               0.000000   \n",
       "\n",
       "   NO_OF_INQUIRIES  Total_NO_OF_ACCTS  Total_OVERDUE_ACCTS  \\\n",
       "0              0.0          -0.333333                  0.0   \n",
       "1              0.0           0.000000                  1.0   \n",
       "2              0.0          -0.333333                  0.0   \n",
       "3              1.0           0.666667                  0.0   \n",
       "4              1.0          -0.333333                  0.0   \n",
       "\n",
       "   Total_CURRENT_BALANCE  Total_DISBURSED_AMOUNT  Total_INSTAL_AMT       Age  \\\n",
       "0               0.000000                 0.00000          0.000000  0.133333   \n",
       "1               0.739233                 0.78091          0.955833  0.066667   \n",
       "2               0.000000                 0.00000          0.000000  0.066667   \n",
       "3               0.000000                 0.00000          0.014882 -0.466667   \n",
       "4               0.000000                 0.00000          0.000000  0.600000   \n",
       "\n",
       "   manufacturer_id No_of_documents  CNS_SCORE_DESCRIPTION  \\\n",
       "0          0.24287               1                      0   \n",
       "1          0.24287               1                      2   \n",
       "2          0.24287               1                      0   \n",
       "3          0.24287               1                      1   \n",
       "4          0.24287               1                      0   \n",
       "\n",
       "   Employment_Type_Self employed  Employment_Type_UnEmployeed  \n",
       "0                              0                            0  \n",
       "1                              1                            0  \n",
       "2                              1                            0  \n",
       "3                              1                            0  \n",
       "4                              1                            0  "
      ]
     },
     "execution_count": 58,
     "metadata": {},
     "output_type": "execute_result"
    }
   ],
   "source": [
    "df_full.head()"
   ]
  },
  {
   "cell_type": "code",
   "execution_count": 59,
   "id": "1e0d635c",
   "metadata": {},
   "outputs": [],
   "source": [
    "df_full['No_of_documents'] = df_full['No_of_documents'].astype('int')\n",
    "df['loan_default'] = df['loan_default'].astype('int')"
   ]
  },
  {
   "cell_type": "code",
   "execution_count": 60,
   "id": "5cf4d6fd",
   "metadata": {},
   "outputs": [
    {
     "name": "stdout",
     "output_type": "stream",
     "text": [
      "<class 'pandas.core.frame.DataFrame'>\n",
      "RangeIndex: 233154 entries, 0 to 233153\n",
      "Data columns (total 17 columns):\n",
      " #   Column                               Non-Null Count   Dtype  \n",
      "---  ------                               --------------   -----  \n",
      " 0   disbursed_amount                     233154 non-null  float64\n",
      " 1   ltv                                  233154 non-null  float64\n",
      " 2   NEW_ACCTS_IN_LAST_SIX_MONTHS         233154 non-null  float64\n",
      " 3   DELINQUENT_ACCTS_IN_LAST_SIX_MONTHS  233154 non-null  float64\n",
      " 4   CREDIT_HISTORY_LENGTH                233154 non-null  float64\n",
      " 5   NO_OF_INQUIRIES                      233154 non-null  float64\n",
      " 6   Total_NO_OF_ACCTS                    233154 non-null  float64\n",
      " 7   Total_OVERDUE_ACCTS                  233154 non-null  float64\n",
      " 8   Total_CURRENT_BALANCE                233154 non-null  float64\n",
      " 9   Total_DISBURSED_AMOUNT               233154 non-null  float64\n",
      " 10  Total_INSTAL_AMT                     233154 non-null  float64\n",
      " 11  Age                                  233154 non-null  float64\n",
      " 12  manufacturer_id                      233154 non-null  float64\n",
      " 13  No_of_documents                      233154 non-null  int32  \n",
      " 14  CNS_SCORE_DESCRIPTION                233154 non-null  int64  \n",
      " 15  Employment_Type_Self employed        233154 non-null  uint8  \n",
      " 16  Employment_Type_UnEmployeed          233154 non-null  uint8  \n",
      "dtypes: float64(13), int32(1), int64(1), uint8(2)\n",
      "memory usage: 26.2 MB\n"
     ]
    }
   ],
   "source": [
    "# final Check of data\n",
    "df_full.info()"
   ]
  },
  {
   "cell_type": "markdown",
   "id": "a15c4350",
   "metadata": {},
   "source": [
    "## Train Test split\n"
   ]
  },
  {
   "cell_type": "code",
   "execution_count": 61,
   "id": "0c748d2e",
   "metadata": {},
   "outputs": [
    {
     "data": {
      "text/plain": [
       "((174865, 17), (58289, 17), (174865,), (58289,))"
      ]
     },
     "execution_count": 61,
     "metadata": {},
     "output_type": "execute_result"
    }
   ],
   "source": [
    "from sklearn.model_selection import train_test_split\n",
    "X = df_full\n",
    "y = df['loan_default']\n",
    "x_train, x_test, y_train, y_test = train_test_split(X, y, random_state=42)\n",
    "x_train.shape, x_test.shape, y_train.shape, y_test.shape"
   ]
  },
  {
   "cell_type": "code",
   "execution_count": 62,
   "id": "31dc2e13",
   "metadata": {},
   "outputs": [
    {
     "data": {
      "text/plain": [
       "0    0.783273\n",
       "1    0.216727\n",
       "Name: loan_default, dtype: float64"
      ]
     },
     "execution_count": 62,
     "metadata": {},
     "output_type": "execute_result"
    }
   ],
   "source": [
    "y_train.value_counts(normalize=True)"
   ]
  },
  {
   "cell_type": "code",
   "execution_count": 63,
   "id": "8f46fcc1",
   "metadata": {},
   "outputs": [
    {
     "data": {
      "text/plain": [
       "0    0.781897\n",
       "1    0.218103\n",
       "Name: loan_default, dtype: float64"
      ]
     },
     "execution_count": 63,
     "metadata": {},
     "output_type": "execute_result"
    }
   ],
   "source": [
    "y_test.value_counts(normalize=True)"
   ]
  },
  {
   "cell_type": "raw",
   "id": "e6e5fb56",
   "metadata": {},
   "source": [
    "# Our train test split statstically correct as both data as equal no of defaulter and non defaulter"
   ]
  },
  {
   "cell_type": "markdown",
   "id": "c4cb8911",
   "metadata": {},
   "source": [
    "# BASE MODEL "
   ]
  },
  {
   "cell_type": "code",
   "execution_count": 64,
   "id": "15812a03",
   "metadata": {},
   "outputs": [
    {
     "name": "stdout",
     "output_type": "stream",
     "text": [
      "Optimization terminated successfully.\n",
      "         Current function value: 0.507934\n",
      "         Iterations 6\n",
      "                           Logit Regression Results                           \n",
      "==============================================================================\n",
      "Dep. Variable:           loan_default   No. Observations:               174865\n",
      "Model:                          Logit   Df Residuals:                   174847\n",
      "Method:                           MLE   Df Model:                           17\n",
      "Date:                Thu, 07 Jul 2022   Pseudo R-squ.:                 0.02831\n",
      "Time:                        09:20:49   Log-Likelihood:                -88820.\n",
      "converged:                       True   LL-Null:                       -91408.\n",
      "Covariance Type:            nonrobust   LLR p-value:                     0.000\n",
      "=======================================================================================================\n",
      "                                          coef    std err          z      P>|z|      [0.025      0.975]\n",
      "-------------------------------------------------------------------------------------------------------\n",
      "const                                  -1.0752      0.028    -38.637      0.000      -1.130      -1.021\n",
      "disbursed_amount                        0.0794      0.007     11.722      0.000       0.066       0.093\n",
      "ltv                                     0.3875      0.010     40.153      0.000       0.369       0.406\n",
      "NEW_ACCTS_IN_LAST_SIX_MONTHS           -0.0580      0.009     -6.803      0.000      -0.075      -0.041\n",
      "DELINQUENT_ACCTS_IN_LAST_SIX_MONTHS     0.2348      0.017     13.645      0.000       0.201       0.269\n",
      "CREDIT_HISTORY_LENGTH                  -0.0587      0.007     -8.066      0.000      -0.073      -0.044\n",
      "NO_OF_INQUIRIES                         0.1513      0.008     18.766      0.000       0.136       0.167\n",
      "Total_NO_OF_ACCTS                      -0.0437      0.006     -7.459      0.000      -0.055      -0.032\n",
      "Total_OVERDUE_ACCTS                     0.2214      0.013     17.147      0.000       0.196       0.247\n",
      "Total_CURRENT_BALANCE                  -0.0050      0.000    -10.851      0.000      -0.006      -0.004\n",
      "Total_DISBURSED_AMOUNT                  0.0002      0.000      1.451      0.147   -7.47e-05       0.001\n",
      "Total_INSTAL_AMT                     6.555e-05   9.48e-05      0.691      0.489      -0.000       0.000\n",
      "Age                                    -0.1356      0.010    -13.723      0.000      -0.155      -0.116\n",
      "manufacturer_id                        -0.6337      0.038    -16.883      0.000      -0.707      -0.560\n",
      "No_of_documents                         0.0026      0.021      0.127      0.899      -0.038       0.043\n",
      "CNS_SCORE_DESCRIPTION                  -0.0927      0.006    -16.614      0.000      -0.104      -0.082\n",
      "Employment_Type_Self employed           0.1975      0.012     15.978      0.000       0.173       0.222\n",
      "Employment_Type_UnEmployeed            -0.0086      0.035     -0.250      0.803      -0.076       0.059\n",
      "=======================================================================================================\n"
     ]
    }
   ],
   "source": [
    "import statsmodels.api as sm\n",
    "\n",
    "xc = sm.add_constant(x_train)\n",
    "xt = sm.add_constant(x_test)\n",
    "\n",
    "base_model = sm.Logit(y_train, xc).fit()\n",
    "\n",
    "print(base_model.summary())"
   ]
  },
  {
   "cell_type": "code",
   "execution_count": 65,
   "id": "a25a93e7",
   "metadata": {},
   "outputs": [],
   "source": [
    "from sklearn.metrics import classification_report, accuracy_score, recall_score, roc_auc_score, roc_curve, confusion_matrix"
   ]
  },
  {
   "cell_type": "code",
   "execution_count": 99,
   "id": "ec14ee1a",
   "metadata": {},
   "outputs": [
    {
     "name": "stdout",
     "output_type": "stream",
     "text": [
      "              precision    recall  f1-score   support\n",
      "\n",
      "           0       0.78      1.00      0.88    136967\n",
      "           1       0.41      0.00      0.01     37898\n",
      "\n",
      "    accuracy                           0.78    174865\n",
      "   macro avg       0.60      0.50      0.44    174865\n",
      "weighted avg       0.70      0.78      0.69    174865\n",
      "\n",
      "              precision    recall  f1-score   support\n",
      "\n",
      "           0       0.78      1.00      0.88     45576\n",
      "           1       0.45      0.00      0.01     12713\n",
      "\n",
      "    accuracy                           0.78     58289\n",
      "   macro avg       0.62      0.50      0.44     58289\n",
      "weighted avg       0.71      0.78      0.69     58289\n",
      "\n"
     ]
    }
   ],
   "source": [
    "train_prob = base_model.predict(xc)\n",
    "train_pred = [0 if x < 0.5 else 1 for x in train_prob]\n",
    "test_prob = base_model.predict(xt)\n",
    "test_pred = [0 if x < 0.5 else 1 for x in test_prob]\n",
    "\n",
    "train = classification_report(y_train,train_pred)\n",
    "test = classification_report(y_test, test_pred)\n",
    "print(train)\n",
    "print(test)"
   ]
  },
  {
   "cell_type": "raw",
   "id": "9a637117",
   "metadata": {},
   "source": [
    "# Due to imbalance target variable recall is 1 thats why this model is not significant"
   ]
  },
  {
   "cell_type": "code",
   "execution_count": 100,
   "id": "b5f6f214",
   "metadata": {},
   "outputs": [
    {
     "data": {
      "text/plain": [
       "Total_DISBURSED_AMOUNT         0.146912\n",
       "Total_INSTAL_AMT               0.489305\n",
       "No_of_documents                0.898698\n",
       "Employment_Type_UnEmployeed    0.802892\n",
       "dtype: float64"
      ]
     },
     "execution_count": 100,
     "metadata": {},
     "output_type": "execute_result"
    }
   ],
   "source": [
    "# Insignificant variable as per base model\n",
    "base_model.pvalues[base_model.pvalues > 0.05]"
   ]
  },
  {
   "cell_type": "code",
   "execution_count": 101,
   "id": "58865b0c",
   "metadata": {},
   "outputs": [
    {
     "data": {
      "text/html": [
       "<div>\n",
       "<style scoped>\n",
       "    .dataframe tbody tr th:only-of-type {\n",
       "        vertical-align: middle;\n",
       "    }\n",
       "\n",
       "    .dataframe tbody tr th {\n",
       "        vertical-align: top;\n",
       "    }\n",
       "\n",
       "    .dataframe thead th {\n",
       "        text-align: right;\n",
       "    }\n",
       "</style>\n",
       "<table border=\"1\" class=\"dataframe\">\n",
       "  <thead>\n",
       "    <tr style=\"text-align: right;\">\n",
       "      <th></th>\n",
       "      <th>Model Name</th>\n",
       "      <th>Accuracy</th>\n",
       "      <th>Recall</th>\n",
       "      <th>ROC_AUC_Score</th>\n",
       "    </tr>\n",
       "  </thead>\n",
       "  <tbody>\n",
       "  </tbody>\n",
       "</table>\n",
       "</div>"
      ],
      "text/plain": [
       "Empty DataFrame\n",
       "Columns: [Model Name, Accuracy, Recall, ROC_AUC_Score]\n",
       "Index: []"
      ]
     },
     "execution_count": 101,
     "metadata": {},
     "output_type": "execute_result"
    }
   ],
   "source": [
    "# lets make result table where we will save all results of model\n",
    "result = pd.DataFrame(columns = ['Model Name', 'Accuracy', 'Recall', 'ROC_AUC_Score'])\n",
    "result"
   ]
  },
  {
   "cell_type": "code",
   "execution_count": 102,
   "id": "38bb8aff",
   "metadata": {},
   "outputs": [
    {
     "data": {
      "text/html": [
       "<div>\n",
       "<style scoped>\n",
       "    .dataframe tbody tr th:only-of-type {\n",
       "        vertical-align: middle;\n",
       "    }\n",
       "\n",
       "    .dataframe tbody tr th {\n",
       "        vertical-align: top;\n",
       "    }\n",
       "\n",
       "    .dataframe thead th {\n",
       "        text-align: right;\n",
       "    }\n",
       "</style>\n",
       "<table border=\"1\" class=\"dataframe\">\n",
       "  <thead>\n",
       "    <tr style=\"text-align: right;\">\n",
       "      <th></th>\n",
       "      <th>Model Name</th>\n",
       "      <th>Accuracy</th>\n",
       "      <th>Recall</th>\n",
       "      <th>ROC_AUC_Score</th>\n",
       "    </tr>\n",
       "  </thead>\n",
       "  <tbody>\n",
       "    <tr>\n",
       "      <th>0</th>\n",
       "      <td>Base Model</td>\n",
       "      <td>0.781726</td>\n",
       "      <td>0.003776</td>\n",
       "      <td>0.621956</td>\n",
       "    </tr>\n",
       "  </tbody>\n",
       "</table>\n",
       "</div>"
      ],
      "text/plain": [
       "   Model Name  Accuracy    Recall  ROC_AUC_Score\n",
       "0  Base Model  0.781726  0.003776       0.621956"
      ]
     },
     "execution_count": 102,
     "metadata": {},
     "output_type": "execute_result"
    }
   ],
   "source": [
    "# Storing results in table\n",
    "a = accuracy_score(y_test, test_pred)\n",
    "r = recall_score(y_test, test_pred)\n",
    "roc = roc_auc_score(y_test, test_prob)\n",
    "result.loc[0] = ['Base Model', a, r ,roc]\n",
    "result"
   ]
  },
  {
   "cell_type": "markdown",
   "id": "77bcd677",
   "metadata": {},
   "source": [
    "## Lets Balance the Target varibale"
   ]
  },
  {
   "cell_type": "code",
   "execution_count": 70,
   "id": "0fbe8519",
   "metadata": {},
   "outputs": [],
   "source": [
    "from imblearn.over_sampling import SMOTE\n",
    "smt = SMOTE(random_state=10)\n",
    "x_bal, y_bal = smt.fit_resample(x_train, y_train)"
   ]
  },
  {
   "cell_type": "code",
   "execution_count": 71,
   "id": "b783567d",
   "metadata": {},
   "outputs": [
    {
     "data": {
      "text/plain": [
       "0    136967\n",
       "1    136967\n",
       "Name: loan_default, dtype: int64"
      ]
     },
     "execution_count": 71,
     "metadata": {},
     "output_type": "execute_result"
    }
   ],
   "source": [
    "y_bal.value_counts()"
   ]
  },
  {
   "cell_type": "markdown",
   "id": "674a8e6c",
   "metadata": {},
   "source": [
    "# Linear Model\n",
    "## LogisticRegression"
   ]
  },
  {
   "cell_type": "code",
   "execution_count": 72,
   "id": "df8c2b04",
   "metadata": {},
   "outputs": [],
   "source": [
    "from sklearn.linear_model import LogisticRegression, SGDClassifier\n",
    "from sklearn.model_selection import GridSearchCV"
   ]
  },
  {
   "cell_type": "code",
   "execution_count": 103,
   "id": "f1311d94",
   "metadata": {},
   "outputs": [
    {
     "name": "stdout",
     "output_type": "stream",
     "text": [
      "Train classification_report\n",
      "              precision    recall  f1-score   support\n",
      "\n",
      "           0       0.60      0.55      0.57    136967\n",
      "           1       0.58      0.63      0.60    136967\n",
      "\n",
      "    accuracy                           0.59    273934\n",
      "   macro avg       0.59      0.59      0.59    273934\n",
      "weighted avg       0.59      0.59      0.59    273934\n",
      "\n",
      "Test classification_report\n",
      "              precision    recall  f1-score   support\n",
      "\n",
      "           0       0.84      0.55      0.67     45576\n",
      "           1       0.28      0.62      0.39     12713\n",
      "\n",
      "    accuracy                           0.57     58289\n",
      "   macro avg       0.56      0.59      0.53     58289\n",
      "weighted avg       0.72      0.57      0.60     58289\n",
      "\n"
     ]
    }
   ],
   "source": [
    "logreg = LogisticRegression()\n",
    "logreg.fit(x_bal, y_bal)\n",
    "\n",
    "train_pred = logreg.predict(x_bal)\n",
    "test_pred = logreg.predict(x_test)\n",
    "test_prob = logreg.predict_proba(x_test)[:,1]\n",
    "\n",
    "train = classification_report(y_bal,train_pred)\n",
    "test = classification_report(y_test, test_pred)\n",
    "\n",
    "print('Train classification_report')\n",
    "print(train)\n",
    "print('Test classification_report')\n",
    "print(test)"
   ]
  },
  {
   "cell_type": "code",
   "execution_count": 104,
   "id": "08a2a1d3",
   "metadata": {},
   "outputs": [
    {
     "data": {
      "text/html": [
       "<div>\n",
       "<style scoped>\n",
       "    .dataframe tbody tr th:only-of-type {\n",
       "        vertical-align: middle;\n",
       "    }\n",
       "\n",
       "    .dataframe tbody tr th {\n",
       "        vertical-align: top;\n",
       "    }\n",
       "\n",
       "    .dataframe thead th {\n",
       "        text-align: right;\n",
       "    }\n",
       "</style>\n",
       "<table border=\"1\" class=\"dataframe\">\n",
       "  <thead>\n",
       "    <tr style=\"text-align: right;\">\n",
       "      <th></th>\n",
       "      <th>Model Name</th>\n",
       "      <th>Accuracy</th>\n",
       "      <th>Recall</th>\n",
       "      <th>ROC_AUC_Score</th>\n",
       "    </tr>\n",
       "  </thead>\n",
       "  <tbody>\n",
       "    <tr>\n",
       "      <th>0</th>\n",
       "      <td>Base Model</td>\n",
       "      <td>0.781726</td>\n",
       "      <td>0.003776</td>\n",
       "      <td>0.621956</td>\n",
       "    </tr>\n",
       "    <tr>\n",
       "      <th>1</th>\n",
       "      <td>LogisticRegression Model</td>\n",
       "      <td>0.566368</td>\n",
       "      <td>0.622512</td>\n",
       "      <td>0.618581</td>\n",
       "    </tr>\n",
       "  </tbody>\n",
       "</table>\n",
       "</div>"
      ],
      "text/plain": [
       "                 Model Name  Accuracy    Recall  ROC_AUC_Score\n",
       "0                Base Model  0.781726  0.003776       0.621956\n",
       "1  LogisticRegression Model  0.566368  0.622512       0.618581"
      ]
     },
     "execution_count": 104,
     "metadata": {},
     "output_type": "execute_result"
    }
   ],
   "source": [
    "a = accuracy_score(y_test, test_pred)\n",
    "r = recall_score(y_test, test_pred)\n",
    "roc = roc_auc_score(y_test, test_prob)\n",
    "result.loc[1] = ['LogisticRegression Model', a, r ,roc]\n",
    "result"
   ]
  },
  {
   "cell_type": "markdown",
   "id": "56f2b27f",
   "metadata": {},
   "source": [
    "## SGDClassifier"
   ]
  },
  {
   "cell_type": "code",
   "execution_count": 109,
   "id": "56036fbd",
   "metadata": {},
   "outputs": [
    {
     "data": {
      "text/plain": [
       "{'loss': 'log_loss', 'penalty': 'l2'}"
      ]
     },
     "execution_count": 109,
     "metadata": {},
     "output_type": "execute_result"
    }
   ],
   "source": [
    "# Hypertuning for Best Parameters by GridSearchCV\n",
    "sgd = SGDClassifier()\n",
    "\n",
    "param = {'loss':['log_loss', 'log'],\n",
    "        'penalty': ['l2', 'l1', 'elasticnet']}\n",
    "      \n",
    "grd = GridSearchCV(estimator=sgd, param_grid=param, cv=5, scoring='recall')\n",
    "\n",
    "grd.fit(x_bal, y_bal)\n",
    "\n",
    "grd.best_params_"
   ]
  },
  {
   "cell_type": "code",
   "execution_count": 114,
   "id": "954c78f9",
   "metadata": {},
   "outputs": [
    {
     "name": "stdout",
     "output_type": "stream",
     "text": [
      "Train classification_report\n",
      "              precision    recall  f1-score   support\n",
      "\n",
      "           0       0.60      0.53      0.56    136967\n",
      "           1       0.58      0.64      0.61    136967\n",
      "\n",
      "    accuracy                           0.59    273934\n",
      "   macro avg       0.59      0.59      0.59    273934\n",
      "weighted avg       0.59      0.59      0.59    273934\n",
      "\n",
      "Test classification_report\n",
      "              precision    recall  f1-score   support\n",
      "\n",
      "           0       0.84      0.54      0.65     45576\n",
      "           1       0.28      0.63      0.38     12713\n",
      "\n",
      "    accuracy                           0.56     58289\n",
      "   macro avg       0.56      0.58      0.52     58289\n",
      "weighted avg       0.72      0.56      0.60     58289\n",
      "\n"
     ]
    }
   ],
   "source": [
    "sgd = SGDClassifier(alpha=0.01, loss='log_loss',penalty='l2')\n",
    "sgd.fit(x_bal, y_bal)\n",
    "\n",
    "train_pred = sgd.predict(x_bal)\n",
    "test_pred = sgd.predict(x_test)\n",
    "test_prob = sgd.predict_proba(x_test)[:,1]\n",
    "\n",
    "train = classification_report(y_bal,train_pred)\n",
    "test = classification_report(y_test, test_pred)\n",
    "\n",
    "print('Train classification_report')\n",
    "print(train)\n",
    "print('Test classification_report')\n",
    "print(test)"
   ]
  },
  {
   "cell_type": "code",
   "execution_count": 115,
   "id": "663aed6e",
   "metadata": {},
   "outputs": [
    {
     "data": {
      "image/png": "[encoded data removed]",
      "text/plain": [
       "<Figure size 720x360 with 1 Axes>"
      ]
     },
     "metadata": {
      "needs_background": "light"
     },
     "output_type": "display_data"
    }
   ],
   "source": [
    "pd.DataFrame(sgd.coef_.reshape(17,1),columns = ['Coef'], index=x_bal.columns).sort_values('Coef').plot(kind = 'barh')\n",
    "plt.show()"
   ]
  },
  {
   "cell_type": "code",
   "execution_count": 116,
   "id": "b86a23df",
   "metadata": {},
   "outputs": [
    {
     "data": {
      "text/html": [
       "<div>\n",
       "<style scoped>\n",
       "    .dataframe tbody tr th:only-of-type {\n",
       "        vertical-align: middle;\n",
       "    }\n",
       "\n",
       "    .dataframe tbody tr th {\n",
       "        vertical-align: top;\n",
       "    }\n",
       "\n",
       "    .dataframe thead th {\n",
       "        text-align: right;\n",
       "    }\n",
       "</style>\n",
       "<table border=\"1\" class=\"dataframe\">\n",
       "  <thead>\n",
       "    <tr style=\"text-align: right;\">\n",
       "      <th></th>\n",
       "      <th>Model Name</th>\n",
       "      <th>Accuracy</th>\n",
       "      <th>Recall</th>\n",
       "      <th>ROC_AUC_Score</th>\n",
       "    </tr>\n",
       "  </thead>\n",
       "  <tbody>\n",
       "    <tr>\n",
       "      <th>0</th>\n",
       "      <td>Base Model</td>\n",
       "      <td>0.781726</td>\n",
       "      <td>0.003776</td>\n",
       "      <td>0.621956</td>\n",
       "    </tr>\n",
       "    <tr>\n",
       "      <th>1</th>\n",
       "      <td>LogisticRegression Model</td>\n",
       "      <td>0.566368</td>\n",
       "      <td>0.622512</td>\n",
       "      <td>0.618581</td>\n",
       "    </tr>\n",
       "    <tr>\n",
       "      <th>2</th>\n",
       "      <td>SGDClassifier Model</td>\n",
       "      <td>0.557000</td>\n",
       "      <td>0.633839</td>\n",
       "      <td>0.614912</td>\n",
       "    </tr>\n",
       "  </tbody>\n",
       "</table>\n",
       "</div>"
      ],
      "text/plain": [
       "                 Model Name  Accuracy    Recall  ROC_AUC_Score\n",
       "0                Base Model  0.781726  0.003776       0.621956\n",
       "1  LogisticRegression Model  0.566368  0.622512       0.618581\n",
       "2       SGDClassifier Model  0.557000  0.633839       0.614912"
      ]
     },
     "execution_count": 116,
     "metadata": {},
     "output_type": "execute_result"
    }
   ],
   "source": [
    "# Storing results in table\n",
    "a = accuracy_score(y_test, test_pred)\n",
    "r = recall_score(y_test, test_pred)\n",
    "roc = roc_auc_score(y_test, test_prob)\n",
    "result.loc[2] = ['SGDClassifier Model', a, r ,roc]\n",
    "result"
   ]
  },
  {
   "cell_type": "markdown",
   "id": "2bfc291f",
   "metadata": {},
   "source": [
    "# Non Linear Model\n",
    "## DecisionTreeClassifier"
   ]
  },
  {
   "cell_type": "code",
   "execution_count": 78,
   "id": "1b6421d7",
   "metadata": {},
   "outputs": [],
   "source": [
    "# Lets Import all non linear models\n",
    "from sklearn.model_selection import GridSearchCV\n",
    "from sklearn.tree import DecisionTreeClassifier\n",
    "from sklearn.ensemble import RandomForestClassifier, AdaBoostClassifier, GradientBoostingClassifier, ExtraTreesClassifier\n",
    "from xgboost import XGBClassifier"
   ]
  },
  {
   "cell_type": "code",
   "execution_count": 82,
   "id": "89a0dbae",
   "metadata": {},
   "outputs": [
    {
     "data": {
      "text/plain": [
       "{'criterion': 'entropy', 'max_depth': 3}"
      ]
     },
     "execution_count": 82,
     "metadata": {},
     "output_type": "execute_result"
    }
   ],
   "source": [
    "# Hypertuning for Best Parameters by GridSearchCV\n",
    "dct = DecisionTreeClassifier()\n",
    "\n",
    "param = {'criterion': ['entropy', 'gini'], 'max_depth': range(2, 5)}\n",
    "      \n",
    "grd = GridSearchCV(estimator=dct, param_grid=param, cv=10, scoring='recall')\n",
    "\n",
    "grd.fit(x_bal, y_bal)\n",
    "\n",
    "grd.best_params_"
   ]
  },
  {
   "cell_type": "code",
   "execution_count": 117,
   "id": "e2dda658",
   "metadata": {},
   "outputs": [
    {
     "name": "stdout",
     "output_type": "stream",
     "text": [
      "Train classification_report\n",
      "              precision    recall  f1-score   support\n",
      "\n",
      "           0       0.62      0.56      0.58    136967\n",
      "           1       0.60      0.66      0.62    136967\n",
      "\n",
      "    accuracy                           0.61    273934\n",
      "   macro avg       0.61      0.61      0.60    273934\n",
      "weighted avg       0.61      0.61      0.60    273934\n",
      "\n",
      "Test classification_report\n",
      "              precision    recall  f1-score   support\n",
      "\n",
      "           0       0.83      0.55      0.66     45576\n",
      "           1       0.27      0.58      0.36     12713\n",
      "\n",
      "    accuracy                           0.56     58289\n",
      "   macro avg       0.55      0.57      0.51     58289\n",
      "weighted avg       0.70      0.56      0.60     58289\n",
      "\n"
     ]
    }
   ],
   "source": [
    "# Lets Fit model with best parameter\n",
    "dct = DecisionTreeClassifier(criterion='entropy', max_depth=3)\n",
    "dct.fit(x_bal, y_bal)\n",
    "\n",
    "train_pred = dct.predict(x_bal)\n",
    "test_pred = dct.predict(x_test)\n",
    "test_prob = dct.predict_proba(x_test)[:,1]\n",
    "\n",
    "train = classification_report(y_bal,train_pred)\n",
    "test = classification_report(y_test, test_pred)\n",
    "\n",
    "print('Train classification_report')\n",
    "print(train)\n",
    "print('Test classification_report')\n",
    "print(test)"
   ]
  },
  {
   "cell_type": "code",
   "execution_count": 118,
   "id": "52dd5343",
   "metadata": {},
   "outputs": [
    {
     "data": {
      "image/png": "[encoded data removed]",
      "text/plain": [
       "<Figure size 720x360 with 1 Axes>"
      ]
     },
     "metadata": {
      "needs_background": "light"
     },
     "output_type": "display_data"
    }
   ],
   "source": [
    "pd.DataFrame(dct.feature_importances_,columns = ['Score'], index=x_bal.columns).sort_values('Score').plot(kind = 'barh')\n",
    "plt.show()"
   ]
  },
  {
   "cell_type": "code",
   "execution_count": 119,
   "id": "f74952a6",
   "metadata": {},
   "outputs": [
    {
     "data": {
      "text/html": [
       "<div>\n",
       "<style scoped>\n",
       "    .dataframe tbody tr th:only-of-type {\n",
       "        vertical-align: middle;\n",
       "    }\n",
       "\n",
       "    .dataframe tbody tr th {\n",
       "        vertical-align: top;\n",
       "    }\n",
       "\n",
       "    .dataframe thead th {\n",
       "        text-align: right;\n",
       "    }\n",
       "</style>\n",
       "<table border=\"1\" class=\"dataframe\">\n",
       "  <thead>\n",
       "    <tr style=\"text-align: right;\">\n",
       "      <th></th>\n",
       "      <th>Model Name</th>\n",
       "      <th>Accuracy</th>\n",
       "      <th>Recall</th>\n",
       "      <th>ROC_AUC_Score</th>\n",
       "    </tr>\n",
       "  </thead>\n",
       "  <tbody>\n",
       "    <tr>\n",
       "      <th>0</th>\n",
       "      <td>Base Model</td>\n",
       "      <td>0.781726</td>\n",
       "      <td>0.003776</td>\n",
       "      <td>0.621956</td>\n",
       "    </tr>\n",
       "    <tr>\n",
       "      <th>1</th>\n",
       "      <td>LogisticRegression Model</td>\n",
       "      <td>0.566368</td>\n",
       "      <td>0.622512</td>\n",
       "      <td>0.618581</td>\n",
       "    </tr>\n",
       "    <tr>\n",
       "      <th>2</th>\n",
       "      <td>SGDClassifier Model</td>\n",
       "      <td>0.557000</td>\n",
       "      <td>0.633839</td>\n",
       "      <td>0.614912</td>\n",
       "    </tr>\n",
       "    <tr>\n",
       "      <th>3</th>\n",
       "      <td>DecisionTreeClassifier</td>\n",
       "      <td>0.558304</td>\n",
       "      <td>0.581295</td>\n",
       "      <td>0.582040</td>\n",
       "    </tr>\n",
       "  </tbody>\n",
       "</table>\n",
       "</div>"
      ],
      "text/plain": [
       "                 Model Name  Accuracy    Recall  ROC_AUC_Score\n",
       "0                Base Model  0.781726  0.003776       0.621956\n",
       "1  LogisticRegression Model  0.566368  0.622512       0.618581\n",
       "2       SGDClassifier Model  0.557000  0.633839       0.614912\n",
       "3    DecisionTreeClassifier  0.558304  0.581295       0.582040"
      ]
     },
     "execution_count": 119,
     "metadata": {},
     "output_type": "execute_result"
    }
   ],
   "source": [
    "# Storing results in table\n",
    "a = accuracy_score(y_test, test_pred)\n",
    "r = recall_score(y_test, test_pred)\n",
    "roc = roc_auc_score(y_test, test_prob)\n",
    "result.loc[3] = ['DecisionTreeClassifier', a, r ,roc]\n",
    "result"
   ]
  },
  {
   "cell_type": "markdown",
   "id": "95f262db",
   "metadata": {},
   "source": [
    "## Random Forest"
   ]
  },
  {
   "cell_type": "code",
   "execution_count": 89,
   "id": "9bb83f05",
   "metadata": {},
   "outputs": [
    {
     "data": {
      "text/plain": [
       "{'criterion': 'gini', 'max_depth': 5}"
      ]
     },
     "execution_count": 89,
     "metadata": {},
     "output_type": "execute_result"
    }
   ],
   "source": [
    "# Hypertuning for Best Parameters by GridSearchCV\n",
    "rf = RandomForestClassifier()\n",
    "\n",
    "param = {'criterion': ['entropy', 'gini'], 'max_depth': range(2, 10)}\n",
    "\n",
    "grd = GridSearchCV(estimator=rf, param_grid=param, cv=5, scoring='recall')\n",
    "\n",
    "grd.fit(x_bal, y_bal)\n",
    "\n",
    "grd.best_params_"
   ]
  },
  {
   "cell_type": "code",
   "execution_count": 120,
   "id": "447be831",
   "metadata": {},
   "outputs": [
    {
     "name": "stdout",
     "output_type": "stream",
     "text": [
      "Train classification_report\n",
      "              precision    recall  f1-score   support\n",
      "\n",
      "           0       0.68      0.57      0.62    136967\n",
      "           1       0.63      0.73      0.68    136967\n",
      "\n",
      "    accuracy                           0.65    273934\n",
      "   macro avg       0.66      0.65      0.65    273934\n",
      "weighted avg       0.66      0.65      0.65    273934\n",
      "\n",
      "Test classification_report\n",
      "              precision    recall  f1-score   support\n",
      "\n",
      "           0       0.83      0.57      0.68     45576\n",
      "           1       0.28      0.59      0.38     12713\n",
      "\n",
      "    accuracy                           0.58     58289\n",
      "   macro avg       0.56      0.58      0.53     58289\n",
      "weighted avg       0.71      0.58      0.61     58289\n",
      "\n"
     ]
    }
   ],
   "source": [
    "# Lets Fit model with best parameter\n",
    "rf = RandomForestClassifier(criterion='gini', max_depth = 5)\n",
    "rf.fit(x_bal, y_bal)\n",
    "\n",
    "train_pred = rf.predict(x_bal)\n",
    "test_pred = rf.predict(x_test)\n",
    "test_prob = rf.predict_proba(x_test)[:,1]\n",
    "\n",
    "train = classification_report(y_bal,train_pred)\n",
    "test = classification_report(y_test, test_pred)\n",
    "\n",
    "print('Train classification_report')\n",
    "print(train)\n",
    "print('Test classification_report')\n",
    "print(test)"
   ]
  },
  {
   "cell_type": "code",
   "execution_count": 121,
   "id": "7c0fb078",
   "metadata": {},
   "outputs": [
    {
     "data": {
      "image/png": "[encoded data removed]",
      "text/plain": [
       "<Figure size 720x360 with 1 Axes>"
      ]
     },
     "metadata": {
      "needs_background": "light"
     },
     "output_type": "display_data"
    }
   ],
   "source": [
    "pd.DataFrame(rf.feature_importances_,columns = ['Score'], index=x_bal.columns).sort_values('Score').plot(kind = 'barh')\n",
    "plt.show()"
   ]
  },
  {
   "cell_type": "code",
   "execution_count": 122,
   "id": "20f9c97a",
   "metadata": {},
   "outputs": [
    {
     "data": {
      "text/html": [
       "<div>\n",
       "<style scoped>\n",
       "    .dataframe tbody tr th:only-of-type {\n",
       "        vertical-align: middle;\n",
       "    }\n",
       "\n",
       "    .dataframe tbody tr th {\n",
       "        vertical-align: top;\n",
       "    }\n",
       "\n",
       "    .dataframe thead th {\n",
       "        text-align: right;\n",
       "    }\n",
       "</style>\n",
       "<table border=\"1\" class=\"dataframe\">\n",
       "  <thead>\n",
       "    <tr style=\"text-align: right;\">\n",
       "      <th></th>\n",
       "      <th>Model Name</th>\n",
       "      <th>Accuracy</th>\n",
       "      <th>Recall</th>\n",
       "      <th>ROC_AUC_Score</th>\n",
       "    </tr>\n",
       "  </thead>\n",
       "  <tbody>\n",
       "    <tr>\n",
       "      <th>0</th>\n",
       "      <td>Base Model</td>\n",
       "      <td>0.781726</td>\n",
       "      <td>0.003776</td>\n",
       "      <td>0.621956</td>\n",
       "    </tr>\n",
       "    <tr>\n",
       "      <th>1</th>\n",
       "      <td>LogisticRegression Model</td>\n",
       "      <td>0.566368</td>\n",
       "      <td>0.622512</td>\n",
       "      <td>0.618581</td>\n",
       "    </tr>\n",
       "    <tr>\n",
       "      <th>2</th>\n",
       "      <td>SGDClassifier Model</td>\n",
       "      <td>0.557000</td>\n",
       "      <td>0.633839</td>\n",
       "      <td>0.614912</td>\n",
       "    </tr>\n",
       "    <tr>\n",
       "      <th>3</th>\n",
       "      <td>DecisionTreeClassifier</td>\n",
       "      <td>0.558304</td>\n",
       "      <td>0.581295</td>\n",
       "      <td>0.582040</td>\n",
       "    </tr>\n",
       "    <tr>\n",
       "      <th>4</th>\n",
       "      <td>RandomForestClassifier</td>\n",
       "      <td>0.577553</td>\n",
       "      <td>0.593880</td>\n",
       "      <td>0.613064</td>\n",
       "    </tr>\n",
       "  </tbody>\n",
       "</table>\n",
       "</div>"
      ],
      "text/plain": [
       "                 Model Name  Accuracy    Recall  ROC_AUC_Score\n",
       "0                Base Model  0.781726  0.003776       0.621956\n",
       "1  LogisticRegression Model  0.566368  0.622512       0.618581\n",
       "2       SGDClassifier Model  0.557000  0.633839       0.614912\n",
       "3    DecisionTreeClassifier  0.558304  0.581295       0.582040\n",
       "4    RandomForestClassifier  0.577553  0.593880       0.613064"
      ]
     },
     "execution_count": 122,
     "metadata": {},
     "output_type": "execute_result"
    }
   ],
   "source": [
    "# Storing results in table\n",
    "a = accuracy_score(y_test, test_pred)\n",
    "r = recall_score(y_test, test_pred)\n",
    "roc = roc_auc_score(y_test, test_prob)\n",
    "result.loc[4] = ['RandomForestClassifier', a, r ,roc]\n",
    "result"
   ]
  },
  {
   "cell_type": "markdown",
   "id": "38149580",
   "metadata": {},
   "source": [
    "## ExtraTreesClassifier"
   ]
  },
  {
   "cell_type": "code",
   "execution_count": 87,
   "id": "d8f25d64",
   "metadata": {},
   "outputs": [
    {
     "data": {
      "text/plain": [
       "{'criterion': 'entropy', 'max_depth': 9}"
      ]
     },
     "execution_count": 87,
     "metadata": {},
     "output_type": "execute_result"
    }
   ],
   "source": [
    "# Hypertuning for Best Parameters by GridSearchCV\n",
    "etc = ExtraTreesClassifier()\n",
    "\n",
    "param = {'criterion': ['entropy', 'gini'], 'max_depth': range(3, 10)}\n",
    "\n",
    "grd = GridSearchCV(estimator=etc, param_grid=param, cv=5, scoring='recall')\n",
    "\n",
    "grd.fit(x_bal, y_bal)\n",
    "\n",
    "grd.best_params_"
   ]
  },
  {
   "cell_type": "code",
   "execution_count": 123,
   "id": "549c85c4",
   "metadata": {},
   "outputs": [
    {
     "name": "stdout",
     "output_type": "stream",
     "text": [
      "Train classification_report\n",
      "              precision    recall  f1-score   support\n",
      "\n",
      "           0       0.66      0.55      0.60    136967\n",
      "           1       0.62      0.72      0.67    136967\n",
      "\n",
      "    accuracy                           0.64    273934\n",
      "   macro avg       0.64      0.64      0.63    273934\n",
      "weighted avg       0.64      0.64      0.63    273934\n",
      "\n",
      "Test classification_report\n",
      "              precision    recall  f1-score   support\n",
      "\n",
      "           0       0.83      0.55      0.66     45576\n",
      "           1       0.27      0.61      0.38     12713\n",
      "\n",
      "    accuracy                           0.56     58289\n",
      "   macro avg       0.55      0.58      0.52     58289\n",
      "weighted avg       0.71      0.56      0.60     58289\n",
      "\n"
     ]
    }
   ],
   "source": [
    "# Lets Fit model with best parameter\n",
    "etc = ExtraTreesClassifier(criterion='entropy', max_depth=9)\n",
    "etc.fit(x_bal, y_bal)\n",
    "\n",
    "train_pred = etc.predict(x_bal)\n",
    "test_pred = etc.predict(x_test)\n",
    "test_prob = etc.predict_proba(x_test)[:,1]\n",
    "\n",
    "train = classification_report(y_bal,train_pred)\n",
    "test = classification_report(y_test, test_pred)\n",
    "\n",
    "print('Train classification_report')\n",
    "print(train)\n",
    "print('Test classification_report')\n",
    "print(test)"
   ]
  },
  {
   "cell_type": "code",
   "execution_count": 125,
   "id": "10053c9e",
   "metadata": {},
   "outputs": [
    {
     "data": {
      "image/png": "[encoded data removed]",
      "text/plain": [
       "<Figure size 720x360 with 1 Axes>"
      ]
     },
     "metadata": {
      "needs_background": "light"
     },
     "output_type": "display_data"
    }
   ],
   "source": [
    "pd.DataFrame(etc.feature_importances_,columns = ['Score'], index=x_bal.columns).sort_values('Score').plot(kind = 'barh')\n",
    "plt.show()"
   ]
  },
  {
   "cell_type": "code",
   "execution_count": 126,
   "id": "7c8bc8da",
   "metadata": {},
   "outputs": [
    {
     "data": {
      "text/html": [
       "<div>\n",
       "<style scoped>\n",
       "    .dataframe tbody tr th:only-of-type {\n",
       "        vertical-align: middle;\n",
       "    }\n",
       "\n",
       "    .dataframe tbody tr th {\n",
       "        vertical-align: top;\n",
       "    }\n",
       "\n",
       "    .dataframe thead th {\n",
       "        text-align: right;\n",
       "    }\n",
       "</style>\n",
       "<table border=\"1\" class=\"dataframe\">\n",
       "  <thead>\n",
       "    <tr style=\"text-align: right;\">\n",
       "      <th></th>\n",
       "      <th>Model Name</th>\n",
       "      <th>Accuracy</th>\n",
       "      <th>Recall</th>\n",
       "      <th>ROC_AUC_Score</th>\n",
       "    </tr>\n",
       "  </thead>\n",
       "  <tbody>\n",
       "    <tr>\n",
       "      <th>0</th>\n",
       "      <td>Base Model</td>\n",
       "      <td>0.781726</td>\n",
       "      <td>0.003776</td>\n",
       "      <td>0.621956</td>\n",
       "    </tr>\n",
       "    <tr>\n",
       "      <th>1</th>\n",
       "      <td>LogisticRegression Model</td>\n",
       "      <td>0.566368</td>\n",
       "      <td>0.622512</td>\n",
       "      <td>0.618581</td>\n",
       "    </tr>\n",
       "    <tr>\n",
       "      <th>2</th>\n",
       "      <td>SGDClassifier Model</td>\n",
       "      <td>0.557000</td>\n",
       "      <td>0.633839</td>\n",
       "      <td>0.614912</td>\n",
       "    </tr>\n",
       "    <tr>\n",
       "      <th>3</th>\n",
       "      <td>DecisionTreeClassifier</td>\n",
       "      <td>0.558304</td>\n",
       "      <td>0.581295</td>\n",
       "      <td>0.582040</td>\n",
       "    </tr>\n",
       "    <tr>\n",
       "      <th>4</th>\n",
       "      <td>RandomForestClassifier</td>\n",
       "      <td>0.577553</td>\n",
       "      <td>0.593880</td>\n",
       "      <td>0.613064</td>\n",
       "    </tr>\n",
       "    <tr>\n",
       "      <th>5</th>\n",
       "      <td>ExtraTreesClassifier</td>\n",
       "      <td>0.561650</td>\n",
       "      <td>0.611343</td>\n",
       "      <td>0.607693</td>\n",
       "    </tr>\n",
       "  </tbody>\n",
       "</table>\n",
       "</div>"
      ],
      "text/plain": [
       "                 Model Name  Accuracy    Recall  ROC_AUC_Score\n",
       "0                Base Model  0.781726  0.003776       0.621956\n",
       "1  LogisticRegression Model  0.566368  0.622512       0.618581\n",
       "2       SGDClassifier Model  0.557000  0.633839       0.614912\n",
       "3    DecisionTreeClassifier  0.558304  0.581295       0.582040\n",
       "4    RandomForestClassifier  0.577553  0.593880       0.613064\n",
       "5      ExtraTreesClassifier  0.561650  0.611343       0.607693"
      ]
     },
     "execution_count": 126,
     "metadata": {},
     "output_type": "execute_result"
    }
   ],
   "source": [
    "# Storing results in table\n",
    "a = accuracy_score(y_test, test_pred)\n",
    "r = recall_score(y_test, test_pred)\n",
    "roc = roc_auc_score(y_test, test_prob)\n",
    "result.loc[5] = ['ExtraTreesClassifier', a, r ,roc]\n",
    "result"
   ]
  },
  {
   "cell_type": "markdown",
   "id": "b1067927",
   "metadata": {},
   "source": [
    "## AdaBoost"
   ]
  },
  {
   "cell_type": "code",
   "execution_count": 91,
   "id": "dd873139",
   "metadata": {},
   "outputs": [
    {
     "data": {
      "text/plain": [
       "{'learning_rate': 0.2}"
      ]
     },
     "execution_count": 91,
     "metadata": {},
     "output_type": "execute_result"
    }
   ],
   "source": [
    "ada = AdaBoostClassifier()\n",
    "\n",
    "param = {'learning_rate':[0.1,0.2,0.3,0.4]}\n",
    "\n",
    "grd = GridSearchCV(estimator=ada, param_grid=param, cv=5, scoring='recall')\n",
    "\n",
    "grd.fit(x_bal, y_bal)\n",
    "\n",
    "grd.best_params_"
   ]
  },
  {
   "cell_type": "code",
   "execution_count": 127,
   "id": "045a5f2c",
   "metadata": {},
   "outputs": [
    {
     "name": "stdout",
     "output_type": "stream",
     "text": [
      "Train classification_report\n",
      "              precision    recall  f1-score   support\n",
      "\n",
      "           0       0.65      0.58      0.61    136967\n",
      "           1       0.62      0.69      0.66    136967\n",
      "\n",
      "    accuracy                           0.64    273934\n",
      "   macro avg       0.64      0.64      0.63    273934\n",
      "weighted avg       0.64      0.64      0.63    273934\n",
      "\n",
      "Test classification_report\n",
      "              precision    recall  f1-score   support\n",
      "\n",
      "           0       0.83      0.58      0.68     45576\n",
      "           1       0.28      0.58      0.38     12713\n",
      "\n",
      "    accuracy                           0.58     58289\n",
      "   macro avg       0.55      0.58      0.53     58289\n",
      "weighted avg       0.71      0.58      0.61     58289\n",
      "\n"
     ]
    }
   ],
   "source": [
    "# Lets Fit model with best parameter\n",
    "ada = AdaBoostClassifier(learning_rate=0.2)\n",
    "ada.fit(x_bal, y_bal)\n",
    "\n",
    "train_pred = ada.predict(x_bal)\n",
    "test_pred = ada.predict(x_test)\n",
    "test_prob = ada.predict_proba(x_test)[:,1]\n",
    "\n",
    "train = classification_report(y_bal,train_pred)\n",
    "test = classification_report(y_test, test_pred)\n",
    "\n",
    "print('Train classification_report')\n",
    "print(train)\n",
    "print('Test classification_report')\n",
    "print(test)"
   ]
  },
  {
   "cell_type": "code",
   "execution_count": 128,
   "id": "223030dd",
   "metadata": {},
   "outputs": [
    {
     "data": {
      "image/png": "[encoded data removed]",
      "text/plain": [
       "<Figure size 720x360 with 1 Axes>"
      ]
     },
     "metadata": {
      "needs_background": "light"
     },
     "output_type": "display_data"
    }
   ],
   "source": [
    "pd.DataFrame(ada.feature_importances_,columns = ['Score'], index=x_bal.columns).sort_values('Score').plot(kind = 'barh')\n",
    "plt.show()"
   ]
  },
  {
   "cell_type": "code",
   "execution_count": 129,
   "id": "f4dcee76",
   "metadata": {},
   "outputs": [
    {
     "data": {
      "text/html": [
       "<div>\n",
       "<style scoped>\n",
       "    .dataframe tbody tr th:only-of-type {\n",
       "        vertical-align: middle;\n",
       "    }\n",
       "\n",
       "    .dataframe tbody tr th {\n",
       "        vertical-align: top;\n",
       "    }\n",
       "\n",
       "    .dataframe thead th {\n",
       "        text-align: right;\n",
       "    }\n",
       "</style>\n",
       "<table border=\"1\" class=\"dataframe\">\n",
       "  <thead>\n",
       "    <tr style=\"text-align: right;\">\n",
       "      <th></th>\n",
       "      <th>Model Name</th>\n",
       "      <th>Accuracy</th>\n",
       "      <th>Recall</th>\n",
       "      <th>ROC_AUC_Score</th>\n",
       "    </tr>\n",
       "  </thead>\n",
       "  <tbody>\n",
       "    <tr>\n",
       "      <th>0</th>\n",
       "      <td>Base Model</td>\n",
       "      <td>0.781726</td>\n",
       "      <td>0.003776</td>\n",
       "      <td>0.621956</td>\n",
       "    </tr>\n",
       "    <tr>\n",
       "      <th>1</th>\n",
       "      <td>LogisticRegression Model</td>\n",
       "      <td>0.566368</td>\n",
       "      <td>0.622512</td>\n",
       "      <td>0.618581</td>\n",
       "    </tr>\n",
       "    <tr>\n",
       "      <th>2</th>\n",
       "      <td>SGDClassifier Model</td>\n",
       "      <td>0.557000</td>\n",
       "      <td>0.633839</td>\n",
       "      <td>0.614912</td>\n",
       "    </tr>\n",
       "    <tr>\n",
       "      <th>3</th>\n",
       "      <td>DecisionTreeClassifier</td>\n",
       "      <td>0.558304</td>\n",
       "      <td>0.581295</td>\n",
       "      <td>0.582040</td>\n",
       "    </tr>\n",
       "    <tr>\n",
       "      <th>4</th>\n",
       "      <td>RandomForestClassifier</td>\n",
       "      <td>0.577553</td>\n",
       "      <td>0.593880</td>\n",
       "      <td>0.613064</td>\n",
       "    </tr>\n",
       "    <tr>\n",
       "      <th>5</th>\n",
       "      <td>ExtraTreesClassifier</td>\n",
       "      <td>0.561650</td>\n",
       "      <td>0.611343</td>\n",
       "      <td>0.607693</td>\n",
       "    </tr>\n",
       "    <tr>\n",
       "      <th>6</th>\n",
       "      <td>AdaBoostClassifier</td>\n",
       "      <td>0.577159</td>\n",
       "      <td>0.582081</td>\n",
       "      <td>0.606665</td>\n",
       "    </tr>\n",
       "  </tbody>\n",
       "</table>\n",
       "</div>"
      ],
      "text/plain": [
       "                 Model Name  Accuracy    Recall  ROC_AUC_Score\n",
       "0                Base Model  0.781726  0.003776       0.621956\n",
       "1  LogisticRegression Model  0.566368  0.622512       0.618581\n",
       "2       SGDClassifier Model  0.557000  0.633839       0.614912\n",
       "3    DecisionTreeClassifier  0.558304  0.581295       0.582040\n",
       "4    RandomForestClassifier  0.577553  0.593880       0.613064\n",
       "5      ExtraTreesClassifier  0.561650  0.611343       0.607693\n",
       "6        AdaBoostClassifier  0.577159  0.582081       0.606665"
      ]
     },
     "execution_count": 129,
     "metadata": {},
     "output_type": "execute_result"
    }
   ],
   "source": [
    "# Storing results in table\n",
    "a = accuracy_score(y_test, test_pred)\n",
    "r = recall_score(y_test, test_pred)\n",
    "roc = roc_auc_score(y_test, test_prob)\n",
    "result.loc[6] = ['AdaBoostClassifier', a, r ,roc]\n",
    "result"
   ]
  },
  {
   "cell_type": "markdown",
   "id": "685f1548",
   "metadata": {},
   "source": [
    "## Gradient Boost"
   ]
  },
  {
   "cell_type": "code",
   "execution_count": 93,
   "id": "21f73e89",
   "metadata": {},
   "outputs": [
    {
     "data": {
      "text/plain": [
       "{'learning_rate': 0.1}"
      ]
     },
     "execution_count": 93,
     "metadata": {},
     "output_type": "execute_result"
    }
   ],
   "source": [
    "# Hypertuning for Best Parameters by GridSearchCV\n",
    "gbc = GradientBoostingClassifier()\n",
    "\n",
    "param = {'learning_rate':[0.1, 0.2, 0.3]}\n",
    "\n",
    "grd = GridSearchCV(estimator=gbc, param_grid=param, cv=5, scoring='recall')\n",
    "\n",
    "grd.fit(x_bal, y_bal)\n",
    " \n",
    "grd.best_params_"
   ]
  },
  {
   "cell_type": "code",
   "execution_count": 130,
   "id": "c6b7cbd1",
   "metadata": {},
   "outputs": [
    {
     "name": "stdout",
     "output_type": "stream",
     "text": [
      "Train classification_report\n",
      "              precision    recall  f1-score   support\n",
      "\n",
      "           0       0.72      0.80      0.76    136967\n",
      "           1       0.78      0.68      0.73    136967\n",
      "\n",
      "    accuracy                           0.74    273934\n",
      "   macro avg       0.75      0.74      0.74    273934\n",
      "weighted avg       0.75      0.74      0.74    273934\n",
      "\n",
      "Test classification_report\n",
      "              precision    recall  f1-score   support\n",
      "\n",
      "           0       0.80      0.80      0.80     45576\n",
      "           1       0.29      0.30      0.30     12713\n",
      "\n",
      "    accuracy                           0.69     58289\n",
      "   macro avg       0.55      0.55      0.55     58289\n",
      "weighted avg       0.69      0.69      0.69     58289\n",
      "\n"
     ]
    }
   ],
   "source": [
    "# Lets Fit model with best parameter\n",
    "gbc = GradientBoostingClassifier(learning_rate=0.1)\n",
    "gbc.fit(x_bal, y_bal)\n",
    "\n",
    "train_pred = gbc.predict(x_bal)\n",
    "test_pred = gbc.predict(x_test)\n",
    "test_prob = gbc.predict_proba(x_test)[:,1]\n",
    "\n",
    "train = classification_report(y_bal,train_pred)\n",
    "test = classification_report(y_test, test_pred)\n",
    "\n",
    "print('Train classification_report')\n",
    "print(train)\n",
    "print('Test classification_report')\n",
    "print(test)"
   ]
  },
  {
   "cell_type": "code",
   "execution_count": 131,
   "id": "2d350614",
   "metadata": {},
   "outputs": [
    {
     "data": {
      "image/png": "[encoded data removed]",
      "text/plain": [
       "<Figure size 720x360 with 1 Axes>"
      ]
     },
     "metadata": {
      "needs_background": "light"
     },
     "output_type": "display_data"
    }
   ],
   "source": [
    "pd.DataFrame(gbc.feature_importances_,columns = ['Score'], index=x_bal.columns).sort_values('Score').plot(kind = 'barh')\n",
    "plt.show()"
   ]
  },
  {
   "cell_type": "code",
   "execution_count": 132,
   "id": "6ae14238",
   "metadata": {},
   "outputs": [
    {
     "data": {
      "text/html": [
       "<div>\n",
       "<style scoped>\n",
       "    .dataframe tbody tr th:only-of-type {\n",
       "        vertical-align: middle;\n",
       "    }\n",
       "\n",
       "    .dataframe tbody tr th {\n",
       "        vertical-align: top;\n",
       "    }\n",
       "\n",
       "    .dataframe thead th {\n",
       "        text-align: right;\n",
       "    }\n",
       "</style>\n",
       "<table border=\"1\" class=\"dataframe\">\n",
       "  <thead>\n",
       "    <tr style=\"text-align: right;\">\n",
       "      <th></th>\n",
       "      <th>Model Name</th>\n",
       "      <th>Accuracy</th>\n",
       "      <th>Recall</th>\n",
       "      <th>ROC_AUC_Score</th>\n",
       "    </tr>\n",
       "  </thead>\n",
       "  <tbody>\n",
       "    <tr>\n",
       "      <th>0</th>\n",
       "      <td>Base Model</td>\n",
       "      <td>0.781726</td>\n",
       "      <td>0.003776</td>\n",
       "      <td>0.621956</td>\n",
       "    </tr>\n",
       "    <tr>\n",
       "      <th>1</th>\n",
       "      <td>LogisticRegression Model</td>\n",
       "      <td>0.566368</td>\n",
       "      <td>0.622512</td>\n",
       "      <td>0.618581</td>\n",
       "    </tr>\n",
       "    <tr>\n",
       "      <th>2</th>\n",
       "      <td>SGDClassifier Model</td>\n",
       "      <td>0.557000</td>\n",
       "      <td>0.633839</td>\n",
       "      <td>0.614912</td>\n",
       "    </tr>\n",
       "    <tr>\n",
       "      <th>3</th>\n",
       "      <td>DecisionTreeClassifier</td>\n",
       "      <td>0.558304</td>\n",
       "      <td>0.581295</td>\n",
       "      <td>0.582040</td>\n",
       "    </tr>\n",
       "    <tr>\n",
       "      <th>4</th>\n",
       "      <td>RandomForestClassifier</td>\n",
       "      <td>0.577553</td>\n",
       "      <td>0.593880</td>\n",
       "      <td>0.613064</td>\n",
       "    </tr>\n",
       "    <tr>\n",
       "      <th>5</th>\n",
       "      <td>ExtraTreesClassifier</td>\n",
       "      <td>0.561650</td>\n",
       "      <td>0.611343</td>\n",
       "      <td>0.607693</td>\n",
       "    </tr>\n",
       "    <tr>\n",
       "      <th>6</th>\n",
       "      <td>AdaBoostClassifier</td>\n",
       "      <td>0.577159</td>\n",
       "      <td>0.582081</td>\n",
       "      <td>0.606665</td>\n",
       "    </tr>\n",
       "    <tr>\n",
       "      <th>7</th>\n",
       "      <td>GradientBoostingClassifier</td>\n",
       "      <td>0.690919</td>\n",
       "      <td>0.298749</td>\n",
       "      <td>0.608521</td>\n",
       "    </tr>\n",
       "  </tbody>\n",
       "</table>\n",
       "</div>"
      ],
      "text/plain": [
       "                   Model Name  Accuracy    Recall  ROC_AUC_Score\n",
       "0                  Base Model  0.781726  0.003776       0.621956\n",
       "1    LogisticRegression Model  0.566368  0.622512       0.618581\n",
       "2         SGDClassifier Model  0.557000  0.633839       0.614912\n",
       "3      DecisionTreeClassifier  0.558304  0.581295       0.582040\n",
       "4      RandomForestClassifier  0.577553  0.593880       0.613064\n",
       "5        ExtraTreesClassifier  0.561650  0.611343       0.607693\n",
       "6          AdaBoostClassifier  0.577159  0.582081       0.606665\n",
       "7  GradientBoostingClassifier  0.690919  0.298749       0.608521"
      ]
     },
     "execution_count": 132,
     "metadata": {},
     "output_type": "execute_result"
    }
   ],
   "source": [
    "# Storing results in table\n",
    "a = accuracy_score(y_test, test_pred)\n",
    "r = recall_score(y_test, test_pred)\n",
    "roc = roc_auc_score(y_test, test_prob)\n",
    "result.loc[7] = ['GradientBoostingClassifier', a, r ,roc]\n",
    "result"
   ]
  },
  {
   "cell_type": "markdown",
   "id": "df86d53f",
   "metadata": {},
   "source": [
    "## XG Boost"
   ]
  },
  {
   "cell_type": "code",
   "execution_count": 95,
   "id": "a8abcb13",
   "metadata": {},
   "outputs": [
    {
     "data": {
      "text/plain": [
       "{'gamma': 2}"
      ]
     },
     "execution_count": 95,
     "metadata": {},
     "output_type": "execute_result"
    }
   ],
   "source": [
    "# Hypertuning for Best Parameters by GridSearchCV\n",
    "xg = XGBClassifier(learning_rate = 0.3)\n",
    "\n",
    "param = {'gamma': [0, 1, 2, 3, 4]}\n",
    "\n",
    "grd = GridSearchCV(estimator=xg, param_grid=param, cv=5, scoring='recall')\n",
    "\n",
    "grd.fit(x_bal, y_bal)\n",
    "\n",
    "grd.best_params_"
   ]
  },
  {
   "cell_type": "code",
   "execution_count": 133,
   "id": "26ba7128",
   "metadata": {},
   "outputs": [
    {
     "name": "stdout",
     "output_type": "stream",
     "text": [
      "Train classification_report\n",
      "              precision    recall  f1-score   support\n",
      "\n",
      "           0       0.75      0.96      0.84    136967\n",
      "           1       0.95      0.68      0.79    136967\n",
      "\n",
      "    accuracy                           0.82    273934\n",
      "   macro avg       0.85      0.82      0.82    273934\n",
      "weighted avg       0.85      0.82      0.82    273934\n",
      "\n",
      "Test classification_report\n",
      "              precision    recall  f1-score   support\n",
      "\n",
      "           0       0.79      0.96      0.86     45576\n",
      "           1       0.33      0.08      0.13     12713\n",
      "\n",
      "    accuracy                           0.77     58289\n",
      "   macro avg       0.56      0.52      0.49     58289\n",
      "weighted avg       0.69      0.77      0.70     58289\n",
      "\n"
     ]
    }
   ],
   "source": [
    "# Lets Fit model with best parameter\n",
    "xg = XGBClassifier(gamma = 2)\n",
    "xg.fit(x_bal, y_bal)\n",
    "\n",
    "train_pred = xg.predict(x_bal)\n",
    "test_pred = xg.predict(x_test)\n",
    "test_prob = xg.predict_proba(x_test)[:,1]\n",
    "\n",
    "train = classification_report(y_bal,train_pred)\n",
    "test = classification_report(y_test, test_pred)\n",
    "\n",
    "print('Train classification_report')\n",
    "print(train)\n",
    "print('Test classification_report')\n",
    "print(test)"
   ]
  },
  {
   "cell_type": "code",
   "execution_count": 134,
   "id": "5fa6429f",
   "metadata": {},
   "outputs": [
    {
     "data": {
      "image/png": "[encoded data removed]",
      "text/plain": [
       "<Figure size 720x360 with 1 Axes>"
      ]
     },
     "metadata": {
      "needs_background": "light"
     },
     "output_type": "display_data"
    }
   ],
   "source": [
    "pd.DataFrame(xg.feature_importances_,columns = ['Score'], index=x_bal.columns).sort_values('Score').plot(kind = 'barh')\n",
    "plt.show()"
   ]
  },
  {
   "cell_type": "code",
   "execution_count": 135,
   "id": "b0d84f0d",
   "metadata": {},
   "outputs": [
    {
     "data": {
      "text/html": [
       "<div>\n",
       "<style scoped>\n",
       "    .dataframe tbody tr th:only-of-type {\n",
       "        vertical-align: middle;\n",
       "    }\n",
       "\n",
       "    .dataframe tbody tr th {\n",
       "        vertical-align: top;\n",
       "    }\n",
       "\n",
       "    .dataframe thead th {\n",
       "        text-align: right;\n",
       "    }\n",
       "</style>\n",
       "<table border=\"1\" class=\"dataframe\">\n",
       "  <thead>\n",
       "    <tr style=\"text-align: right;\">\n",
       "      <th></th>\n",
       "      <th>Model Name</th>\n",
       "      <th>Accuracy</th>\n",
       "      <th>Recall</th>\n",
       "      <th>ROC_AUC_Score</th>\n",
       "    </tr>\n",
       "  </thead>\n",
       "  <tbody>\n",
       "    <tr>\n",
       "      <th>0</th>\n",
       "      <td>Base Model</td>\n",
       "      <td>0.781726</td>\n",
       "      <td>0.003776</td>\n",
       "      <td>0.621956</td>\n",
       "    </tr>\n",
       "    <tr>\n",
       "      <th>1</th>\n",
       "      <td>LogisticRegression Model</td>\n",
       "      <td>0.566368</td>\n",
       "      <td>0.622512</td>\n",
       "      <td>0.618581</td>\n",
       "    </tr>\n",
       "    <tr>\n",
       "      <th>2</th>\n",
       "      <td>SGDClassifier Model</td>\n",
       "      <td>0.557000</td>\n",
       "      <td>0.633839</td>\n",
       "      <td>0.614912</td>\n",
       "    </tr>\n",
       "    <tr>\n",
       "      <th>3</th>\n",
       "      <td>DecisionTreeClassifier</td>\n",
       "      <td>0.558304</td>\n",
       "      <td>0.581295</td>\n",
       "      <td>0.582040</td>\n",
       "    </tr>\n",
       "    <tr>\n",
       "      <th>4</th>\n",
       "      <td>RandomForestClassifier</td>\n",
       "      <td>0.577553</td>\n",
       "      <td>0.593880</td>\n",
       "      <td>0.613064</td>\n",
       "    </tr>\n",
       "    <tr>\n",
       "      <th>5</th>\n",
       "      <td>ExtraTreesClassifier</td>\n",
       "      <td>0.561650</td>\n",
       "      <td>0.611343</td>\n",
       "      <td>0.607693</td>\n",
       "    </tr>\n",
       "    <tr>\n",
       "      <th>6</th>\n",
       "      <td>AdaBoostClassifier</td>\n",
       "      <td>0.577159</td>\n",
       "      <td>0.582081</td>\n",
       "      <td>0.606665</td>\n",
       "    </tr>\n",
       "    <tr>\n",
       "      <th>7</th>\n",
       "      <td>GradientBoostingClassifier</td>\n",
       "      <td>0.690919</td>\n",
       "      <td>0.298749</td>\n",
       "      <td>0.608521</td>\n",
       "    </tr>\n",
       "    <tr>\n",
       "      <th>8</th>\n",
       "      <td>XGBClassifier</td>\n",
       "      <td>0.765307</td>\n",
       "      <td>0.077086</td>\n",
       "      <td>0.617438</td>\n",
       "    </tr>\n",
       "  </tbody>\n",
       "</table>\n",
       "</div>"
      ],
      "text/plain": [
       "                   Model Name  Accuracy    Recall  ROC_AUC_Score\n",
       "0                  Base Model  0.781726  0.003776       0.621956\n",
       "1    LogisticRegression Model  0.566368  0.622512       0.618581\n",
       "2         SGDClassifier Model  0.557000  0.633839       0.614912\n",
       "3      DecisionTreeClassifier  0.558304  0.581295       0.582040\n",
       "4      RandomForestClassifier  0.577553  0.593880       0.613064\n",
       "5        ExtraTreesClassifier  0.561650  0.611343       0.607693\n",
       "6          AdaBoostClassifier  0.577159  0.582081       0.606665\n",
       "7  GradientBoostingClassifier  0.690919  0.298749       0.608521\n",
       "8               XGBClassifier  0.765307  0.077086       0.617438"
      ]
     },
     "execution_count": 135,
     "metadata": {},
     "output_type": "execute_result"
    }
   ],
   "source": [
    "# Storing results in table\n",
    "a = accuracy_score(y_test, test_pred)\n",
    "r = recall_score(y_test, test_pred)\n",
    "roc = roc_auc_score(y_test, test_prob)\n",
    "result.loc[8] = ['XGBClassifier', a, r ,roc]\n",
    "result"
   ]
  },
  {
   "cell_type": "markdown",
   "id": "c63a5275",
   "metadata": {},
   "source": [
    "# Best Model"
   ]
  },
  {
   "cell_type": "code",
   "execution_count": 164,
   "id": "1bf1586b",
   "metadata": {},
   "outputs": [
    {
     "data": {
      "text/html": [
       "<div>\n",
       "<style scoped>\n",
       "    .dataframe tbody tr th:only-of-type {\n",
       "        vertical-align: middle;\n",
       "    }\n",
       "\n",
       "    .dataframe tbody tr th {\n",
       "        vertical-align: top;\n",
       "    }\n",
       "\n",
       "    .dataframe thead th {\n",
       "        text-align: right;\n",
       "    }\n",
       "</style>\n",
       "<table border=\"1\" class=\"dataframe\">\n",
       "  <thead>\n",
       "    <tr style=\"text-align: right;\">\n",
       "      <th></th>\n",
       "      <th>Model Name</th>\n",
       "      <th>Accuracy</th>\n",
       "      <th>Recall</th>\n",
       "      <th>ROC_AUC_Score</th>\n",
       "    </tr>\n",
       "  </thead>\n",
       "  <tbody>\n",
       "    <tr>\n",
       "      <th>2</th>\n",
       "      <td>SGDClassifier Model</td>\n",
       "      <td>0.557000</td>\n",
       "      <td>0.633839</td>\n",
       "      <td>0.614912</td>\n",
       "    </tr>\n",
       "    <tr>\n",
       "      <th>1</th>\n",
       "      <td>LogisticRegression Model</td>\n",
       "      <td>0.566368</td>\n",
       "      <td>0.622512</td>\n",
       "      <td>0.618581</td>\n",
       "    </tr>\n",
       "    <tr>\n",
       "      <th>5</th>\n",
       "      <td>ExtraTreesClassifier</td>\n",
       "      <td>0.561650</td>\n",
       "      <td>0.611343</td>\n",
       "      <td>0.607693</td>\n",
       "    </tr>\n",
       "    <tr>\n",
       "      <th>4</th>\n",
       "      <td>RandomForestClassifier</td>\n",
       "      <td>0.577553</td>\n",
       "      <td>0.593880</td>\n",
       "      <td>0.613064</td>\n",
       "    </tr>\n",
       "    <tr>\n",
       "      <th>6</th>\n",
       "      <td>AdaBoostClassifier</td>\n",
       "      <td>0.577159</td>\n",
       "      <td>0.582081</td>\n",
       "      <td>0.606665</td>\n",
       "    </tr>\n",
       "    <tr>\n",
       "      <th>3</th>\n",
       "      <td>DecisionTreeClassifier</td>\n",
       "      <td>0.558304</td>\n",
       "      <td>0.581295</td>\n",
       "      <td>0.582040</td>\n",
       "    </tr>\n",
       "    <tr>\n",
       "      <th>7</th>\n",
       "      <td>GradientBoostingClassifier</td>\n",
       "      <td>0.690919</td>\n",
       "      <td>0.298749</td>\n",
       "      <td>0.608521</td>\n",
       "    </tr>\n",
       "    <tr>\n",
       "      <th>8</th>\n",
       "      <td>XGBClassifier</td>\n",
       "      <td>0.765307</td>\n",
       "      <td>0.077086</td>\n",
       "      <td>0.617438</td>\n",
       "    </tr>\n",
       "    <tr>\n",
       "      <th>0</th>\n",
       "      <td>Base Model</td>\n",
       "      <td>0.781726</td>\n",
       "      <td>0.003776</td>\n",
       "      <td>0.621956</td>\n",
       "    </tr>\n",
       "  </tbody>\n",
       "</table>\n",
       "</div>"
      ],
      "text/plain": [
       "                   Model Name  Accuracy    Recall  ROC_AUC_Score\n",
       "2         SGDClassifier Model  0.557000  0.633839       0.614912\n",
       "1    LogisticRegression Model  0.566368  0.622512       0.618581\n",
       "5        ExtraTreesClassifier  0.561650  0.611343       0.607693\n",
       "4      RandomForestClassifier  0.577553  0.593880       0.613064\n",
       "6          AdaBoostClassifier  0.577159  0.582081       0.606665\n",
       "3      DecisionTreeClassifier  0.558304  0.581295       0.582040\n",
       "7  GradientBoostingClassifier  0.690919  0.298749       0.608521\n",
       "8               XGBClassifier  0.765307  0.077086       0.617438\n",
       "0                  Base Model  0.781726  0.003776       0.621956"
      ]
     },
     "execution_count": 164,
     "metadata": {},
     "output_type": "execute_result"
    }
   ],
   "source": [
    "# Sorting as per Recall\n",
    "result.sort_values('Recall', ascending=False)"
   ]
  },
  {
   "cell_type": "code",
   "execution_count": null,
   "id": "a0ba606a",
   "metadata": {},
   "outputs": [],
   "source": [
    "# We can see that SGDClassifier Mode has the highest recall so\n",
    "# we are considring it has best model"
   ]
  },
  {
   "cell_type": "markdown",
   "id": "aeae436e",
   "metadata": {},
   "source": [
    "# So Our best Model is \n",
    "## SGDClassifier"
   ]
  },
  {
   "cell_type": "markdown",
   "id": "b9c28353",
   "metadata": {},
   "source": [
    "## Confusion Matrix"
   ]
  },
  {
   "cell_type": "code",
   "execution_count": 156,
   "id": "a69c5b59",
   "metadata": {},
   "outputs": [
    {
     "data": {
      "image/png": "[encoded data removed]",
      "text/plain": [
       "<Figure size 720x360 with 1 Axes>"
      ]
     },
     "metadata": {
      "needs_background": "light"
     },
     "output_type": "display_data"
    }
   ],
   "source": [
    "test_pred = sgd.predict(x_test)\n",
    "\n",
    "cm = confusion_matrix(y_test, test_pred)\n",
    "\n",
    "conf_matrix = pd.DataFrame(data = cm,columns = ['Predicted:0','Predicted:1'], index = ['Actual:0','Actual:1'])\n",
    "sns.heatmap(conf_matrix, annot = True, fmt = 'd', cbar = False, linewidths = 0.1, annot_kws = {'size':25})\n",
    "\n",
    "plt.xticks(fontsize = 20)\n",
    "plt.yticks(fontsize = 20)\n",
    "plt.show()"
   ]
  },
  {
   "cell_type": "markdown",
   "id": "c5818312",
   "metadata": {},
   "source": [
    "## Roc_curve"
   ]
  },
  {
   "cell_type": "code",
   "execution_count": 197,
   "id": "adc54454",
   "metadata": {
    "scrolled": false
   },
   "outputs": [
    {
     "data": {
      "image/png": "[encoded data removed]",
      "text/plain": [
       "<Figure size 720x360 with 1 Axes>"
      ]
     },
     "metadata": {
      "needs_background": "light"
     },
     "output_type": "display_data"
    }
   ],
   "source": [
    "test_prob = sgd.predict_proba(x_test)[:,1]\n",
    "fpr, tpr, thresholds = roc_curve(y_test, test_prob)\n",
    "\n",
    "plt.plot(fpr, tpr)\n",
    "\n",
    "plt.xlim([0.0, 1.0])\n",
    "plt.ylim([0.0, 1.0])\n",
    "\n",
    "plt.plot([0, 1], [0, 1],'r--')\n",
    "\n",
    "plt.title('ROC curve Vehical Loan Prediction', fontsize = 15)\n",
    "plt.xlabel('False positive rate (1-Specificity)', fontsize = 15)\n",
    "plt.ylabel('True positive rate (Sensitivity)', fontsize = 15)\n",
    "\n",
    "plt.text(x = 0.02, y = 0.9, s = ('AUC Score:', round(roc_auc_score(y_test, test_prob),4)))\n",
    "\n",
    "plt.grid(True)"
   ]
  },
  {
   "cell_type": "code",
   "execution_count": 199,
   "id": "d9764c4b",
   "metadata": {},
   "outputs": [
    {
     "data": {
      "text/html": [
       "<div>\n",
       "<style scoped>\n",
       "    .dataframe tbody tr th:only-of-type {\n",
       "        vertical-align: middle;\n",
       "    }\n",
       "\n",
       "    .dataframe tbody tr th {\n",
       "        vertical-align: top;\n",
       "    }\n",
       "\n",
       "    .dataframe thead th {\n",
       "        text-align: right;\n",
       "    }\n",
       "</style>\n",
       "<table border=\"1\" class=\"dataframe\">\n",
       "  <thead>\n",
       "    <tr style=\"text-align: right;\">\n",
       "      <th></th>\n",
       "      <th>Score</th>\n",
       "    </tr>\n",
       "  </thead>\n",
       "  <tbody>\n",
       "    <tr>\n",
       "      <th>manufacturer_id</th>\n",
       "      <td>0.262492</td>\n",
       "    </tr>\n",
       "    <tr>\n",
       "      <th>Age</th>\n",
       "      <td>0.159263</td>\n",
       "    </tr>\n",
       "    <tr>\n",
       "      <th>CNS_SCORE_DESCRIPTION</th>\n",
       "      <td>0.101453</td>\n",
       "    </tr>\n",
       "    <tr>\n",
       "      <th>DELINQUENT_ACCTS_IN_LAST_SIX_MONTHS</th>\n",
       "      <td>0.084208</td>\n",
       "    </tr>\n",
       "    <tr>\n",
       "      <th>Total_NO_OF_ACCTS</th>\n",
       "      <td>0.080531</td>\n",
       "    </tr>\n",
       "    <tr>\n",
       "      <th>NO_OF_INQUIRIES</th>\n",
       "      <td>0.064184</td>\n",
       "    </tr>\n",
       "    <tr>\n",
       "      <th>Total_OVERDUE_ACCTS</th>\n",
       "      <td>0.055304</td>\n",
       "    </tr>\n",
       "    <tr>\n",
       "      <th>NEW_ACCTS_IN_LAST_SIX_MONTHS</th>\n",
       "      <td>0.053733</td>\n",
       "    </tr>\n",
       "    <tr>\n",
       "      <th>ltv</th>\n",
       "      <td>0.023449</td>\n",
       "    </tr>\n",
       "    <tr>\n",
       "      <th>Total_DISBURSED_AMOUNT</th>\n",
       "      <td>0.022801</td>\n",
       "    </tr>\n",
       "    <tr>\n",
       "      <th>CREDIT_HISTORY_LENGTH</th>\n",
       "      <td>0.016848</td>\n",
       "    </tr>\n",
       "    <tr>\n",
       "      <th>disbursed_amount</th>\n",
       "      <td>0.016048</td>\n",
       "    </tr>\n",
       "    <tr>\n",
       "      <th>Employment_Type_Self employed</th>\n",
       "      <td>0.015540</td>\n",
       "    </tr>\n",
       "    <tr>\n",
       "      <th>Total_INSTAL_AMT</th>\n",
       "      <td>0.012697</td>\n",
       "    </tr>\n",
       "    <tr>\n",
       "      <th>Employment_Type_UnEmployeed</th>\n",
       "      <td>0.012689</td>\n",
       "    </tr>\n",
       "    <tr>\n",
       "      <th>No_of_documents</th>\n",
       "      <td>0.011956</td>\n",
       "    </tr>\n",
       "    <tr>\n",
       "      <th>Total_CURRENT_BALANCE</th>\n",
       "      <td>0.006803</td>\n",
       "    </tr>\n",
       "  </tbody>\n",
       "</table>\n",
       "</div>"
      ],
      "text/plain": [
       "                                        Score\n",
       "manufacturer_id                      0.262492\n",
       "Age                                  0.159263\n",
       "CNS_SCORE_DESCRIPTION                0.101453\n",
       "DELINQUENT_ACCTS_IN_LAST_SIX_MONTHS  0.084208\n",
       "Total_NO_OF_ACCTS                    0.080531\n",
       "NO_OF_INQUIRIES                      0.064184\n",
       "Total_OVERDUE_ACCTS                  0.055304\n",
       "NEW_ACCTS_IN_LAST_SIX_MONTHS         0.053733\n",
       "ltv                                  0.023449\n",
       "Total_DISBURSED_AMOUNT               0.022801\n",
       "CREDIT_HISTORY_LENGTH                0.016848\n",
       "disbursed_amount                     0.016048\n",
       "Employment_Type_Self employed        0.015540\n",
       "Total_INSTAL_AMT                     0.012697\n",
       "Employment_Type_UnEmployeed          0.012689\n",
       "No_of_documents                      0.011956\n",
       "Total_CURRENT_BALANCE                0.006803"
      ]
     },
     "execution_count": 199,
     "metadata": {},
     "output_type": "execute_result"
    }
   ],
   "source": [
    "pd.DataFrame(xg.feature_importances_,columns = ['Score'], index=x_bal.columns).sort_values('Score', ascending = False)"
   ]
  }
 ],
 "metadata": {
  "kernelspec": {
   "display_name": "Python 3 (ipykernel)",
   "language": "python",
   "name": "python3"
  },
  "language_info": {
   "codemirror_mode": {
    "name": "ipython",
    "version": 3
   },
   "file_extension": ".py",
   "mimetype": "text/x-python",
   "name": "python",
   "nbconvert_exporter": "python",
   "pygments_lexer": "ipython3",
   "version": "3.9.7"
  }
 },
 "nbformat": 4,
 "nbformat_minor": 5
}
